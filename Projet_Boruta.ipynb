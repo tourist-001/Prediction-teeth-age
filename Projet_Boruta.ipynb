{
 "cells": [
  {
   "cell_type": "markdown",
   "metadata": {},
   "source": [
    "## Projet 2021-2022 / Yu Rui ; Nicolas Diaz"
   ]
  },
  {
   "cell_type": "markdown",
   "metadata": {},
   "source": [
    "#### Charger Dataset"
   ]
  },
  {
   "cell_type": "code",
   "execution_count": 24,
   "metadata": {},
   "outputs": [],
   "source": [
    "import numpy as np\n",
    "import pandas as pd\n",
    "import matplotlib.pyplot as plt\n",
    "import seaborn as sns\n",
    "from sklearn.model_selection import train_test_split\n",
    "from sklearn.neural_network import MLPRegressor\n",
    "from sklearn.metrics import mean_absolute_error\n",
    "import xgboost as xgb\n",
    "from sklearn.metrics import *\n",
    "from sklearn.preprocessing import StandardScaler\n",
    "from sklearn.svm import SVR\n",
    "from sklearn.pipeline import make_pipeline\n",
    "from sklearn import tree\n",
    "from sklearn.tree import DecisionTreeRegressor\n",
    "from sklearn.ensemble import RandomForestRegressor\n",
    "from sklearn.model_selection import GridSearchCV, RandomizedSearchCV\n",
    "from sklearn.svm import SVC\n",
    "from boruta import BorutaPy"
   ]
  },
  {
   "cell_type": "code",
   "execution_count": 4,
   "metadata": {},
   "outputs": [
    {
     "data": {
      "text/html": [
       "<div>\n",
       "<style scoped>\n",
       "    .dataframe tbody tr th:only-of-type {\n",
       "        vertical-align: middle;\n",
       "    }\n",
       "\n",
       "    .dataframe tbody tr th {\n",
       "        vertical-align: top;\n",
       "    }\n",
       "\n",
       "    .dataframe thead th {\n",
       "        text-align: right;\n",
       "    }\n",
       "</style>\n",
       "<table border=\"1\" class=\"dataframe\">\n",
       "  <thead>\n",
       "    <tr style=\"text-align: right;\">\n",
       "      <th></th>\n",
       "      <th>PAT_SEX</th>\n",
       "      <th>PAT_AGE</th>\n",
       "      <th>VAL_I1</th>\n",
       "      <th>VAL_I2</th>\n",
       "      <th>VAL_C1</th>\n",
       "      <th>VAL_PM1</th>\n",
       "      <th>VAL_PM2</th>\n",
       "      <th>VAL_M1</th>\n",
       "      <th>VAL_M2</th>\n",
       "      <th>VAL_M3</th>\n",
       "    </tr>\n",
       "    <tr>\n",
       "      <th>ID</th>\n",
       "      <th></th>\n",
       "      <th></th>\n",
       "      <th></th>\n",
       "      <th></th>\n",
       "      <th></th>\n",
       "      <th></th>\n",
       "      <th></th>\n",
       "      <th></th>\n",
       "      <th></th>\n",
       "      <th></th>\n",
       "    </tr>\n",
       "  </thead>\n",
       "  <tbody>\n",
       "    <tr>\n",
       "      <th>1</th>\n",
       "      <td>2</td>\n",
       "      <td>4.58</td>\n",
       "      <td>C</td>\n",
       "      <td>C</td>\n",
       "      <td>C</td>\n",
       "      <td>C</td>\n",
       "      <td>B</td>\n",
       "      <td>E</td>\n",
       "      <td>B</td>\n",
       "      <td>0</td>\n",
       "    </tr>\n",
       "    <tr>\n",
       "      <th>2</th>\n",
       "      <td>2</td>\n",
       "      <td>8.26</td>\n",
       "      <td>G</td>\n",
       "      <td>G</td>\n",
       "      <td>E</td>\n",
       "      <td>E</td>\n",
       "      <td>D</td>\n",
       "      <td>G</td>\n",
       "      <td>D</td>\n",
       "      <td>0</td>\n",
       "    </tr>\n",
       "    <tr>\n",
       "      <th>3</th>\n",
       "      <td>2</td>\n",
       "      <td>9.04</td>\n",
       "      <td>H</td>\n",
       "      <td>H</td>\n",
       "      <td>F</td>\n",
       "      <td>E</td>\n",
       "      <td>E</td>\n",
       "      <td>G</td>\n",
       "      <td>D</td>\n",
       "      <td>0</td>\n",
       "    </tr>\n",
       "    <tr>\n",
       "      <th>4</th>\n",
       "      <td>2</td>\n",
       "      <td>9.86</td>\n",
       "      <td>H</td>\n",
       "      <td>H</td>\n",
       "      <td>F</td>\n",
       "      <td>F</td>\n",
       "      <td>E</td>\n",
       "      <td>H</td>\n",
       "      <td>E</td>\n",
       "      <td>0</td>\n",
       "    </tr>\n",
       "    <tr>\n",
       "      <th>5</th>\n",
       "      <td>2</td>\n",
       "      <td>10.35</td>\n",
       "      <td>H</td>\n",
       "      <td>H</td>\n",
       "      <td>F</td>\n",
       "      <td>F</td>\n",
       "      <td>E</td>\n",
       "      <td>G</td>\n",
       "      <td>E</td>\n",
       "      <td>0</td>\n",
       "    </tr>\n",
       "    <tr>\n",
       "      <th>...</th>\n",
       "      <td>...</td>\n",
       "      <td>...</td>\n",
       "      <td>...</td>\n",
       "      <td>...</td>\n",
       "      <td>...</td>\n",
       "      <td>...</td>\n",
       "      <td>...</td>\n",
       "      <td>...</td>\n",
       "      <td>...</td>\n",
       "      <td>...</td>\n",
       "    </tr>\n",
       "    <tr>\n",
       "      <th>7431</th>\n",
       "      <td>1</td>\n",
       "      <td>15.89</td>\n",
       "      <td>H</td>\n",
       "      <td>H</td>\n",
       "      <td>H</td>\n",
       "      <td>H</td>\n",
       "      <td>NaN</td>\n",
       "      <td>H</td>\n",
       "      <td>H</td>\n",
       "      <td>D</td>\n",
       "    </tr>\n",
       "    <tr>\n",
       "      <th>7432</th>\n",
       "      <td>2</td>\n",
       "      <td>12.73</td>\n",
       "      <td>H</td>\n",
       "      <td>H</td>\n",
       "      <td>G</td>\n",
       "      <td>G</td>\n",
       "      <td>F</td>\n",
       "      <td>H</td>\n",
       "      <td>F</td>\n",
       "      <td>C</td>\n",
       "    </tr>\n",
       "    <tr>\n",
       "      <th>7434</th>\n",
       "      <td>1</td>\n",
       "      <td>8.39</td>\n",
       "      <td>H</td>\n",
       "      <td>H</td>\n",
       "      <td>F</td>\n",
       "      <td>E</td>\n",
       "      <td>E</td>\n",
       "      <td>G</td>\n",
       "      <td>E</td>\n",
       "      <td>B</td>\n",
       "    </tr>\n",
       "    <tr>\n",
       "      <th>7435</th>\n",
       "      <td>1</td>\n",
       "      <td>6.25</td>\n",
       "      <td>NaN</td>\n",
       "      <td>NaN</td>\n",
       "      <td>NaN</td>\n",
       "      <td>NaN</td>\n",
       "      <td>NaN</td>\n",
       "      <td>NaN</td>\n",
       "      <td>NaN</td>\n",
       "      <td>NaN</td>\n",
       "    </tr>\n",
       "    <tr>\n",
       "      <th>7436</th>\n",
       "      <td>2</td>\n",
       "      <td>15.10</td>\n",
       "      <td>H</td>\n",
       "      <td>H</td>\n",
       "      <td>H</td>\n",
       "      <td>H</td>\n",
       "      <td>G</td>\n",
       "      <td>H</td>\n",
       "      <td>G</td>\n",
       "      <td>C</td>\n",
       "    </tr>\n",
       "  </tbody>\n",
       "</table>\n",
       "<p>2847 rows × 10 columns</p>\n",
       "</div>"
      ],
      "text/plain": [
       "      PAT_SEX  PAT_AGE VAL_I1 VAL_I2 VAL_C1 VAL_PM1 VAL_PM2 VAL_M1 VAL_M2  \\\n",
       "ID                                                                          \n",
       "1           2     4.58      C      C      C       C       B      E      B   \n",
       "2           2     8.26      G      G      E       E       D      G      D   \n",
       "3           2     9.04      H      H      F       E       E      G      D   \n",
       "4           2     9.86      H      H      F       F       E      H      E   \n",
       "5           2    10.35      H      H      F       F       E      G      E   \n",
       "...       ...      ...    ...    ...    ...     ...     ...    ...    ...   \n",
       "7431        1    15.89      H      H      H       H     NaN      H      H   \n",
       "7432        2    12.73      H      H      G       G       F      H      F   \n",
       "7434        1     8.39      H      H      F       E       E      G      E   \n",
       "7435        1     6.25    NaN    NaN    NaN     NaN     NaN    NaN    NaN   \n",
       "7436        2    15.10      H      H      H       H       G      H      G   \n",
       "\n",
       "     VAL_M3  \n",
       "ID           \n",
       "1         0  \n",
       "2         0  \n",
       "3         0  \n",
       "4         0  \n",
       "5         0  \n",
       "...     ...  \n",
       "7431      D  \n",
       "7432      C  \n",
       "7434      B  \n",
       "7435    NaN  \n",
       "7436      C  \n",
       "\n",
       "[2847 rows x 10 columns]"
      ]
     },
     "execution_count": 4,
     "metadata": {},
     "output_type": "execute_result"
    }
   ],
   "source": [
    "df = pd.read_csv('dataset.csv', index_col = 'ID', sep=';')\n",
    "df"
   ]
  },
  {
   "cell_type": "markdown",
   "metadata": {},
   "source": [
    "#### l'analyse exploratoire des données."
   ]
  },
  {
   "cell_type": "code",
   "execution_count": 6,
   "metadata": {},
   "outputs": [
    {
     "data": {
      "text/plain": [
       "Index(['PAT_SEX', 'PAT_AGE', 'VAL_I1', 'VAL_I2', 'VAL_C1', 'VAL_PM1',\n",
       "       'VAL_PM2', 'VAL_M1', 'VAL_M2', 'VAL_M3'],\n",
       "      dtype='object')"
      ]
     },
     "execution_count": 6,
     "metadata": {},
     "output_type": "execute_result"
    }
   ],
   "source": [
    "df.columns"
   ]
  },
  {
   "cell_type": "code",
   "execution_count": 7,
   "metadata": {},
   "outputs": [
    {
     "data": {
      "text/plain": [
       "(2847, 10)"
      ]
     },
     "execution_count": 7,
     "metadata": {},
     "output_type": "execute_result"
    }
   ],
   "source": [
    "df.shape"
   ]
  },
  {
   "cell_type": "code",
   "execution_count": 8,
   "metadata": {
    "scrolled": true
   },
   "outputs": [
    {
     "data": {
      "text/plain": [
       "object     8\n",
       "int64      1\n",
       "float64    1\n",
       "dtype: int64"
      ]
     },
     "execution_count": 8,
     "metadata": {},
     "output_type": "execute_result"
    }
   ],
   "source": [
    "df.dtypes.value_counts()"
   ]
  },
  {
   "cell_type": "code",
   "execution_count": 9,
   "metadata": {},
   "outputs": [
    {
     "name": "stdout",
     "output_type": "stream",
     "text": [
      "VAL_I1============== ['C' 'G' 'H' nan 'D' 'F' 'E']\n",
      "VAL_I2============== ['C' 'G' 'H' nan 'D' 'E' 'F']\n",
      "VAL_C1============== ['C' 'E' 'F' 'H' nan 'G' 'D']\n",
      "VAL_PM1============= ['C' 'E' 'F' 'H' nan 'G' 'D' 'B' 'A']\n",
      "VAL_PM2============= ['B' 'D' 'E' 'H' nan 'F' 'G' 'C' 'A']\n",
      "VAL_M1============== ['E' 'G' 'H' nan 'F' 'D' 'C']\n",
      "VAL_M2============== ['B' 'D' 'E' 'G' 'H' nan 'F' 'C' 'A']\n",
      "VAL_M3============== ['0' 'D' 'E' 'B' 'C' nan 'H' 'F' 'A' '1' 'G']\n"
     ]
    }
   ],
   "source": [
    "for col in df.select_dtypes('object'):\n",
    "    print(f'{col :=<20} {df[col].unique()}')"
   ]
  },
  {
   "cell_type": "markdown",
   "metadata": {},
   "source": [
    "Valeurs NAN Manquent"
   ]
  },
  {
   "cell_type": "code",
   "execution_count": 10,
   "metadata": {},
   "outputs": [
    {
     "data": {
      "text/plain": [
       "<AxesSubplot:ylabel='ID'>"
      ]
     },
     "execution_count": 10,
     "metadata": {},
     "output_type": "execute_result"
    },
    {
     "data": {
      "image/png": "[encoded data removed]",
      "text/plain": [
       "<Figure size 1440x720 with 1 Axes>"
      ]
     },
     "metadata": {
      "needs_background": "light"
     },
     "output_type": "display_data"
    }
   ],
   "source": [
    "plt.figure(figsize=(20,10))\n",
    "sns.heatmap(df.isna(), cbar=False)"
   ]
  },
  {
   "cell_type": "code",
   "execution_count": 11,
   "metadata": {
    "scrolled": true
   },
   "outputs": [
    {
     "data": {
      "text/plain": [
       "PAT_SEX    0.000000\n",
       "PAT_AGE    0.000000\n",
       "VAL_PM1    0.057956\n",
       "VAL_C1     0.061468\n",
       "VAL_M2     0.067791\n",
       "VAL_M1     0.082894\n",
       "VAL_I2     0.096242\n",
       "VAL_I1     0.111345\n",
       "VAL_PM2    0.124341\n",
       "VAL_M3     0.385318\n",
       "dtype: float64"
      ]
     },
     "execution_count": 11,
     "metadata": {},
     "output_type": "execute_result"
    }
   ],
   "source": [
    "(df.isna().sum()/df.shape[0]).sort_values(ascending=True) ##Pourcentage des valeurs manquent"
   ]
  },
  {
   "cell_type": "markdown",
   "metadata": {},
   "source": [
    "#### Mesuere statistique"
   ]
  },
  {
   "cell_type": "markdown",
   "metadata": {},
   "source": [
    "Moyenne"
   ]
  },
  {
   "cell_type": "code",
   "execution_count": 5,
   "metadata": {
    "scrolled": true
   },
   "outputs": [
    {
     "name": "stdout",
     "output_type": "stream",
     "text": [
      "Moyenne:\n",
      " PAT_AGE    12.329045\n",
      "VAL_I1      8.463241\n",
      "VAL_I2      8.232414\n",
      "VAL_C1      7.584955\n",
      "VAL_PM1     7.445936\n",
      "VAL_PM2     6.991978\n",
      "VAL_M1      8.388357\n",
      "VAL_M2      6.854559\n",
      "VAL_M3      4.856571\n",
      "dtype: float64\n"
     ]
    }
   ],
   "source": [
    "df_num = df.replace({'A' : 2, 'B' : 3, 'C' : 4, 'D' : 5, 'E' : 6, 'F' : 7, 'G' : 8, 'H' : 9})\n",
    "df_num[\"VAL_M3\"] = pd.to_numeric(df_num[\"VAL_M3\"])\n",
    "df1 = df_num.drop(columns = ['PAT_SEX'])\n",
    "df_mean = np.mean(df1)\n",
    "print(\"Moyenne:\\n\",df_mean)"
   ]
  },
  {
   "cell_type": "code",
   "execution_count": 10,
   "metadata": {},
   "outputs": [
    {
     "data": {
      "text/plain": [
       "Text(0.5, 1.0, 'Moyenne')"
      ]
     },
     "execution_count": 10,
     "metadata": {},
     "output_type": "execute_result"
    },
    {
     "data": {
      "image/png": "[encoded data removed]",
      "text/plain": [
       "<Figure size 432x288 with 1 Axes>"
      ]
     },
     "metadata": {
      "needs_background": "light"
     },
     "output_type": "display_data"
    }
   ],
   "source": [
    "moy_gr = df_mean.plot.bar()\n",
    "plt.xlabel('Type_Dent')\n",
    "plt.ylabel('Moy')\n",
    "plt.title('Moyenne',fontweight =\"bold\")"
   ]
  },
  {
   "cell_type": "markdown",
   "metadata": {},
   "source": [
    "L'ecart"
   ]
  },
  {
   "cell_type": "code",
   "execution_count": 11,
   "metadata": {},
   "outputs": [
    {
     "name": "stdout",
     "output_type": "stream",
     "text": [
      "L'ecart-type:\n",
      " PAT_AGE    5.253317\n",
      "VAL_I1     1.065648\n",
      "VAL_I2     1.304573\n",
      "VAL_C1     1.572204\n",
      "VAL_PM1    1.705439\n",
      "VAL_PM2    1.930588\n",
      "VAL_M1     0.944294\n",
      "VAL_M2     1.874939\n",
      "VAL_M3     2.533546\n",
      "dtype: float64\n"
     ]
    }
   ],
   "source": [
    "ecart_type = np.std(df1)\n",
    "print(\"L'ecart-type:\\n\",ecart_type)"
   ]
  },
  {
   "cell_type": "code",
   "execution_count": 12,
   "metadata": {},
   "outputs": [
    {
     "data": {
      "text/plain": [
       "Text(0.5, 1.0, 'l’écart-type')"
      ]
     },
     "execution_count": 12,
     "metadata": {},
     "output_type": "execute_result"
    },
    {
     "data": {
      "image/png": "[encoded data removed]",
      "text/plain": [
       "<Figure size 432x288 with 1 Axes>"
      ]
     },
     "metadata": {
      "needs_background": "light"
     },
     "output_type": "display_data"
    }
   ],
   "source": [
    "ecart_grap = ecart_type.plot.bar()\n",
    "plt.xlabel('Type_Dent')\n",
    "plt.ylabel('Ecart')\n",
    "plt.title('l’écart-type',fontweight =\"bold\")"
   ]
  },
  {
   "cell_type": "markdown",
   "metadata": {},
   "source": [
    "Histogrames des variables continues"
   ]
  },
  {
   "cell_type": "code",
   "execution_count": 13,
   "metadata": {},
   "outputs": [
    {
     "data": {
      "text/plain": [
       "Text(0.5, 1.0, 'Type Dient: VAL_I1')"
      ]
     },
     "execution_count": 13,
     "metadata": {},
     "output_type": "execute_result"
    },
    {
     "data": {
      "image/png": "[encoded data removed]",
      "text/plain": [
       "<Figure size 432x288 with 1 Axes>"
      ]
     },
     "metadata": {
      "needs_background": "light"
     },
     "output_type": "display_data"
    }
   ],
   "source": [
    "df['VAL_I1'].hist(label='VAL_I1')\n",
    "plt.xlabel('Stades Maturité')\n",
    "plt.ylabel('Distribution')\n",
    "plt.title('Type Dient: VAL_I1',fontweight =\"bold\")"
   ]
  },
  {
   "cell_type": "code",
   "execution_count": 14,
   "metadata": {},
   "outputs": [
    {
     "data": {
      "text/plain": [
       "Text(0.5, 1.0, 'Type Dient: VAL_I2')"
      ]
     },
     "execution_count": 14,
     "metadata": {},
     "output_type": "execute_result"
    },
    {
     "data": {
      "image/png": "[encoded data removed]",
      "text/plain": [
       "<Figure size 432x288 with 1 Axes>"
      ]
     },
     "metadata": {
      "needs_background": "light"
     },
     "output_type": "display_data"
    }
   ],
   "source": [
    "df['VAL_I2'].hist(label='VAL_I2')\n",
    "plt.xlabel('Stades Maturité')\n",
    "plt.ylabel('Distribution')\n",
    "plt.title('Type Dient: VAL_I2',fontweight =\"bold\")"
   ]
  },
  {
   "cell_type": "code",
   "execution_count": 31,
   "metadata": {},
   "outputs": [
    {
     "data": {
      "text/plain": [
       "Text(0.5, 1.0, 'Type Dient: VAL_C1')"
      ]
     },
     "execution_count": 31,
     "metadata": {},
     "output_type": "execute_result"
    },
    {
     "data": {
      "image/png": "[encoded data removed]",
      "text/plain": [
       "<Figure size 432x288 with 1 Axes>"
      ]
     },
     "metadata": {
      "needs_background": "light"
     },
     "output_type": "display_data"
    }
   ],
   "source": [
    "df['VAL_C1'].hist(label='VAL_C1')\n",
    "plt.xlabel('Stades Maturité')\n",
    "plt.ylabel('Distribution')\n",
    "plt.title('Type Dient: VAL_C1',fontweight =\"bold\")"
   ]
  },
  {
   "cell_type": "code",
   "execution_count": 32,
   "metadata": {},
   "outputs": [
    {
     "data": {
      "text/plain": [
       "Text(0.5, 1.0, 'Type Dient: VAL_PM2')"
      ]
     },
     "execution_count": 32,
     "metadata": {},
     "output_type": "execute_result"
    },
    {
     "data": {
      "image/png": "[encoded data removed]",
      "text/plain": [
       "<Figure size 432x288 with 1 Axes>"
      ]
     },
     "metadata": {
      "needs_background": "light"
     },
     "output_type": "display_data"
    }
   ],
   "source": [
    "df['VAL_PM2'].hist(label='VAL_PM2')\n",
    "#df2['VAL_PM2'].hist(bin = 25)\n",
    "plt.xlabel('Stades Maturité')\n",
    "plt.ylabel('Distribution')\n",
    "plt.title('Type Dient: VAL_PM2',fontweight =\"bold\")"
   ]
  },
  {
   "cell_type": "code",
   "execution_count": 33,
   "metadata": {
    "scrolled": true
   },
   "outputs": [
    {
     "data": {
      "text/plain": [
       "Text(0.5, 1.0, 'Type Dient: VAL_M1')"
      ]
     },
     "execution_count": 33,
     "metadata": {},
     "output_type": "execute_result"
    },
    {
     "data": {
      "image/png": "[encoded data removed]",
      "text/plain": [
       "<Figure size 432x288 with 1 Axes>"
      ]
     },
     "metadata": {
      "needs_background": "light"
     },
     "output_type": "display_data"
    }
   ],
   "source": [
    "df['VAL_M1'].hist(label='VAL_M1')\n",
    "plt.xlabel('Stades Maturité')\n",
    "plt.ylabel('Distribution')\n",
    "plt.title('Type Dient: VAL_M1',fontweight =\"bold\")"
   ]
  },
  {
   "cell_type": "code",
   "execution_count": 34,
   "metadata": {},
   "outputs": [
    {
     "data": {
      "text/plain": [
       "Text(0.5, 1.0, 'Type Dient: VAL_M2')"
      ]
     },
     "execution_count": 34,
     "metadata": {},
     "output_type": "execute_result"
    },
    {
     "data": {
      "image/png": "[encoded data removed]",
      "text/plain": [
       "<Figure size 432x288 with 1 Axes>"
      ]
     },
     "metadata": {
      "needs_background": "light"
     },
     "output_type": "display_data"
    }
   ],
   "source": [
    "df['VAL_M2'].hist(label='VAL_M2')\n",
    "plt.xlabel('Stades Maturité')\n",
    "plt.ylabel('Distribution')\n",
    "plt.title('Type Dient: VAL_M2',fontweight =\"bold\")"
   ]
  },
  {
   "cell_type": "code",
   "execution_count": 35,
   "metadata": {},
   "outputs": [
    {
     "data": {
      "text/plain": [
       "Text(0.5, 1.0, 'Type Dient: VAL_M3')"
      ]
     },
     "execution_count": 35,
     "metadata": {},
     "output_type": "execute_result"
    },
    {
     "data": {
      "image/png": "[encoded data removed]",
      "text/plain": [
       "<Figure size 432x288 with 1 Axes>"
      ]
     },
     "metadata": {
      "needs_background": "light"
     },
     "output_type": "display_data"
    }
   ],
   "source": [
    "df['VAL_M3'].hist(label='VAL_M3')\n",
    "plt.xlabel('Stades Maturité')\n",
    "plt.ylabel('Distribution')\n",
    "plt.title('Type Dient: VAL_M3',fontweight =\"bold\")"
   ]
  },
  {
   "cell_type": "markdown",
   "metadata": {},
   "source": [
    "#### Nettoyage des données."
   ]
  },
  {
   "cell_type": "code",
   "execution_count": 6,
   "metadata": {},
   "outputs": [
    {
     "data": {
      "text/html": [
       "<div>\n",
       "<style scoped>\n",
       "    .dataframe tbody tr th:only-of-type {\n",
       "        vertical-align: middle;\n",
       "    }\n",
       "\n",
       "    .dataframe tbody tr th {\n",
       "        vertical-align: top;\n",
       "    }\n",
       "\n",
       "    .dataframe thead th {\n",
       "        text-align: right;\n",
       "    }\n",
       "</style>\n",
       "<table border=\"1\" class=\"dataframe\">\n",
       "  <thead>\n",
       "    <tr style=\"text-align: right;\">\n",
       "      <th></th>\n",
       "      <th>PAT_SEX</th>\n",
       "      <th>PAT_AGE</th>\n",
       "      <th>VAL_I1</th>\n",
       "      <th>VAL_I2</th>\n",
       "      <th>VAL_C1</th>\n",
       "      <th>VAL_PM1</th>\n",
       "      <th>VAL_PM2</th>\n",
       "      <th>VAL_M1</th>\n",
       "      <th>VAL_M2</th>\n",
       "      <th>VAL_M3</th>\n",
       "    </tr>\n",
       "    <tr>\n",
       "      <th>ID</th>\n",
       "      <th></th>\n",
       "      <th></th>\n",
       "      <th></th>\n",
       "      <th></th>\n",
       "      <th></th>\n",
       "      <th></th>\n",
       "      <th></th>\n",
       "      <th></th>\n",
       "      <th></th>\n",
       "      <th></th>\n",
       "    </tr>\n",
       "  </thead>\n",
       "  <tbody>\n",
       "    <tr>\n",
       "      <th>1</th>\n",
       "      <td>2</td>\n",
       "      <td>4.58</td>\n",
       "      <td>4.0</td>\n",
       "      <td>4.0</td>\n",
       "      <td>4.0</td>\n",
       "      <td>4.0</td>\n",
       "      <td>3.0</td>\n",
       "      <td>6.0</td>\n",
       "      <td>3.0</td>\n",
       "      <td>0.0</td>\n",
       "    </tr>\n",
       "    <tr>\n",
       "      <th>2</th>\n",
       "      <td>2</td>\n",
       "      <td>8.26</td>\n",
       "      <td>8.0</td>\n",
       "      <td>8.0</td>\n",
       "      <td>6.0</td>\n",
       "      <td>6.0</td>\n",
       "      <td>5.0</td>\n",
       "      <td>8.0</td>\n",
       "      <td>5.0</td>\n",
       "      <td>0.0</td>\n",
       "    </tr>\n",
       "    <tr>\n",
       "      <th>3</th>\n",
       "      <td>2</td>\n",
       "      <td>9.04</td>\n",
       "      <td>9.0</td>\n",
       "      <td>9.0</td>\n",
       "      <td>7.0</td>\n",
       "      <td>6.0</td>\n",
       "      <td>6.0</td>\n",
       "      <td>8.0</td>\n",
       "      <td>5.0</td>\n",
       "      <td>0.0</td>\n",
       "    </tr>\n",
       "    <tr>\n",
       "      <th>4</th>\n",
       "      <td>2</td>\n",
       "      <td>9.86</td>\n",
       "      <td>9.0</td>\n",
       "      <td>9.0</td>\n",
       "      <td>7.0</td>\n",
       "      <td>7.0</td>\n",
       "      <td>6.0</td>\n",
       "      <td>9.0</td>\n",
       "      <td>6.0</td>\n",
       "      <td>0.0</td>\n",
       "    </tr>\n",
       "    <tr>\n",
       "      <th>5</th>\n",
       "      <td>2</td>\n",
       "      <td>10.35</td>\n",
       "      <td>9.0</td>\n",
       "      <td>9.0</td>\n",
       "      <td>7.0</td>\n",
       "      <td>7.0</td>\n",
       "      <td>6.0</td>\n",
       "      <td>8.0</td>\n",
       "      <td>6.0</td>\n",
       "      <td>0.0</td>\n",
       "    </tr>\n",
       "    <tr>\n",
       "      <th>...</th>\n",
       "      <td>...</td>\n",
       "      <td>...</td>\n",
       "      <td>...</td>\n",
       "      <td>...</td>\n",
       "      <td>...</td>\n",
       "      <td>...</td>\n",
       "      <td>...</td>\n",
       "      <td>...</td>\n",
       "      <td>...</td>\n",
       "      <td>...</td>\n",
       "    </tr>\n",
       "    <tr>\n",
       "      <th>7431</th>\n",
       "      <td>1</td>\n",
       "      <td>15.89</td>\n",
       "      <td>9.0</td>\n",
       "      <td>9.0</td>\n",
       "      <td>9.0</td>\n",
       "      <td>9.0</td>\n",
       "      <td>NaN</td>\n",
       "      <td>9.0</td>\n",
       "      <td>9.0</td>\n",
       "      <td>5.0</td>\n",
       "    </tr>\n",
       "    <tr>\n",
       "      <th>7432</th>\n",
       "      <td>2</td>\n",
       "      <td>12.73</td>\n",
       "      <td>9.0</td>\n",
       "      <td>9.0</td>\n",
       "      <td>8.0</td>\n",
       "      <td>8.0</td>\n",
       "      <td>7.0</td>\n",
       "      <td>9.0</td>\n",
       "      <td>7.0</td>\n",
       "      <td>4.0</td>\n",
       "    </tr>\n",
       "    <tr>\n",
       "      <th>7434</th>\n",
       "      <td>1</td>\n",
       "      <td>8.39</td>\n",
       "      <td>9.0</td>\n",
       "      <td>9.0</td>\n",
       "      <td>7.0</td>\n",
       "      <td>6.0</td>\n",
       "      <td>6.0</td>\n",
       "      <td>8.0</td>\n",
       "      <td>6.0</td>\n",
       "      <td>3.0</td>\n",
       "    </tr>\n",
       "    <tr>\n",
       "      <th>7435</th>\n",
       "      <td>1</td>\n",
       "      <td>6.25</td>\n",
       "      <td>NaN</td>\n",
       "      <td>NaN</td>\n",
       "      <td>NaN</td>\n",
       "      <td>NaN</td>\n",
       "      <td>NaN</td>\n",
       "      <td>NaN</td>\n",
       "      <td>NaN</td>\n",
       "      <td>NaN</td>\n",
       "    </tr>\n",
       "    <tr>\n",
       "      <th>7436</th>\n",
       "      <td>2</td>\n",
       "      <td>15.10</td>\n",
       "      <td>9.0</td>\n",
       "      <td>9.0</td>\n",
       "      <td>9.0</td>\n",
       "      <td>9.0</td>\n",
       "      <td>8.0</td>\n",
       "      <td>9.0</td>\n",
       "      <td>8.0</td>\n",
       "      <td>4.0</td>\n",
       "    </tr>\n",
       "  </tbody>\n",
       "</table>\n",
       "<p>2847 rows × 10 columns</p>\n",
       "</div>"
      ],
      "text/plain": [
       "      PAT_SEX  PAT_AGE  VAL_I1  VAL_I2  VAL_C1  VAL_PM1  VAL_PM2  VAL_M1  \\\n",
       "ID                                                                         \n",
       "1           2     4.58     4.0     4.0     4.0      4.0      3.0     6.0   \n",
       "2           2     8.26     8.0     8.0     6.0      6.0      5.0     8.0   \n",
       "3           2     9.04     9.0     9.0     7.0      6.0      6.0     8.0   \n",
       "4           2     9.86     9.0     9.0     7.0      7.0      6.0     9.0   \n",
       "5           2    10.35     9.0     9.0     7.0      7.0      6.0     8.0   \n",
       "...       ...      ...     ...     ...     ...      ...      ...     ...   \n",
       "7431        1    15.89     9.0     9.0     9.0      9.0      NaN     9.0   \n",
       "7432        2    12.73     9.0     9.0     8.0      8.0      7.0     9.0   \n",
       "7434        1     8.39     9.0     9.0     7.0      6.0      6.0     8.0   \n",
       "7435        1     6.25     NaN     NaN     NaN      NaN      NaN     NaN   \n",
       "7436        2    15.10     9.0     9.0     9.0      9.0      8.0     9.0   \n",
       "\n",
       "      VAL_M2  VAL_M3  \n",
       "ID                    \n",
       "1        3.0     0.0  \n",
       "2        5.0     0.0  \n",
       "3        5.0     0.0  \n",
       "4        6.0     0.0  \n",
       "5        6.0     0.0  \n",
       "...      ...     ...  \n",
       "7431     9.0     5.0  \n",
       "7432     7.0     4.0  \n",
       "7434     6.0     3.0  \n",
       "7435     NaN     NaN  \n",
       "7436     8.0     4.0  \n",
       "\n",
       "[2847 rows x 10 columns]"
      ]
     },
     "execution_count": 6,
     "metadata": {},
     "output_type": "execute_result"
    }
   ],
   "source": [
    "df_num = df.replace({'A' : 2, 'B' : 3, 'C' : 4, 'D' : 5, 'E' : 6, 'F' : 7, 'G' : 8, 'H' : 9})\n",
    "df_num[\"VAL_M3\"] = pd.to_numeric(df_num[\"VAL_M3\"])\n",
    "# df.describe()\n",
    "df_num"
   ]
  },
  {
   "cell_type": "code",
   "execution_count": 4,
   "metadata": {},
   "outputs": [
    {
     "data": {
      "text/html": [
       "<div>\n",
       "<style scoped>\n",
       "    .dataframe tbody tr th:only-of-type {\n",
       "        vertical-align: middle;\n",
       "    }\n",
       "\n",
       "    .dataframe tbody tr th {\n",
       "        vertical-align: top;\n",
       "    }\n",
       "\n",
       "    .dataframe thead th {\n",
       "        text-align: right;\n",
       "    }\n",
       "</style>\n",
       "<table border=\"1\" class=\"dataframe\">\n",
       "  <thead>\n",
       "    <tr style=\"text-align: right;\">\n",
       "      <th></th>\n",
       "      <th>PAT_SEX</th>\n",
       "      <th>PAT_AGE</th>\n",
       "      <th>VAL_I1</th>\n",
       "      <th>VAL_I2</th>\n",
       "      <th>VAL_C1</th>\n",
       "      <th>VAL_PM1</th>\n",
       "      <th>VAL_PM2</th>\n",
       "      <th>VAL_M1</th>\n",
       "      <th>VAL_M2</th>\n",
       "      <th>VAL_M3</th>\n",
       "    </tr>\n",
       "  </thead>\n",
       "  <tbody>\n",
       "    <tr>\n",
       "      <th>count</th>\n",
       "      <td>2847.000000</td>\n",
       "      <td>2847.000000</td>\n",
       "      <td>2530.000000</td>\n",
       "      <td>2573.000000</td>\n",
       "      <td>2672.000000</td>\n",
       "      <td>2682.000000</td>\n",
       "      <td>2493.000000</td>\n",
       "      <td>2611.000000</td>\n",
       "      <td>2654.000000</td>\n",
       "      <td>1750.000000</td>\n",
       "    </tr>\n",
       "    <tr>\n",
       "      <th>mean</th>\n",
       "      <td>1.511416</td>\n",
       "      <td>12.329045</td>\n",
       "      <td>8.463241</td>\n",
       "      <td>8.232414</td>\n",
       "      <td>7.584955</td>\n",
       "      <td>7.445936</td>\n",
       "      <td>6.991978</td>\n",
       "      <td>8.388357</td>\n",
       "      <td>6.854559</td>\n",
       "      <td>4.856571</td>\n",
       "    </tr>\n",
       "    <tr>\n",
       "      <th>std</th>\n",
       "      <td>0.499957</td>\n",
       "      <td>5.254240</td>\n",
       "      <td>1.065858</td>\n",
       "      <td>1.304827</td>\n",
       "      <td>1.572498</td>\n",
       "      <td>1.705757</td>\n",
       "      <td>1.930976</td>\n",
       "      <td>0.944475</td>\n",
       "      <td>1.875292</td>\n",
       "      <td>2.534270</td>\n",
       "    </tr>\n",
       "    <tr>\n",
       "      <th>min</th>\n",
       "      <td>1.000000</td>\n",
       "      <td>2.180000</td>\n",
       "      <td>4.000000</td>\n",
       "      <td>4.000000</td>\n",
       "      <td>4.000000</td>\n",
       "      <td>2.000000</td>\n",
       "      <td>2.000000</td>\n",
       "      <td>4.000000</td>\n",
       "      <td>2.000000</td>\n",
       "      <td>0.000000</td>\n",
       "    </tr>\n",
       "    <tr>\n",
       "      <th>25%</th>\n",
       "      <td>1.000000</td>\n",
       "      <td>8.115000</td>\n",
       "      <td>8.000000</td>\n",
       "      <td>8.000000</td>\n",
       "      <td>7.000000</td>\n",
       "      <td>6.000000</td>\n",
       "      <td>6.000000</td>\n",
       "      <td>8.000000</td>\n",
       "      <td>5.000000</td>\n",
       "      <td>3.000000</td>\n",
       "    </tr>\n",
       "    <tr>\n",
       "      <th>50%</th>\n",
       "      <td>2.000000</td>\n",
       "      <td>11.550000</td>\n",
       "      <td>9.000000</td>\n",
       "      <td>9.000000</td>\n",
       "      <td>8.000000</td>\n",
       "      <td>8.000000</td>\n",
       "      <td>7.000000</td>\n",
       "      <td>9.000000</td>\n",
       "      <td>7.000000</td>\n",
       "      <td>4.000000</td>\n",
       "    </tr>\n",
       "    <tr>\n",
       "      <th>75%</th>\n",
       "      <td>2.000000</td>\n",
       "      <td>15.550000</td>\n",
       "      <td>9.000000</td>\n",
       "      <td>9.000000</td>\n",
       "      <td>9.000000</td>\n",
       "      <td>9.000000</td>\n",
       "      <td>9.000000</td>\n",
       "      <td>9.000000</td>\n",
       "      <td>9.000000</td>\n",
       "      <td>7.000000</td>\n",
       "    </tr>\n",
       "    <tr>\n",
       "      <th>max</th>\n",
       "      <td>2.000000</td>\n",
       "      <td>23.980000</td>\n",
       "      <td>9.000000</td>\n",
       "      <td>9.000000</td>\n",
       "      <td>9.000000</td>\n",
       "      <td>9.000000</td>\n",
       "      <td>9.000000</td>\n",
       "      <td>9.000000</td>\n",
       "      <td>9.000000</td>\n",
       "      <td>9.000000</td>\n",
       "    </tr>\n",
       "  </tbody>\n",
       "</table>\n",
       "</div>"
      ],
      "text/plain": [
       "           PAT_SEX      PAT_AGE       VAL_I1       VAL_I2       VAL_C1  \\\n",
       "count  2847.000000  2847.000000  2530.000000  2573.000000  2672.000000   \n",
       "mean      1.511416    12.329045     8.463241     8.232414     7.584955   \n",
       "std       0.499957     5.254240     1.065858     1.304827     1.572498   \n",
       "min       1.000000     2.180000     4.000000     4.000000     4.000000   \n",
       "25%       1.000000     8.115000     8.000000     8.000000     7.000000   \n",
       "50%       2.000000    11.550000     9.000000     9.000000     8.000000   \n",
       "75%       2.000000    15.550000     9.000000     9.000000     9.000000   \n",
       "max       2.000000    23.980000     9.000000     9.000000     9.000000   \n",
       "\n",
       "           VAL_PM1      VAL_PM2       VAL_M1       VAL_M2       VAL_M3  \n",
       "count  2682.000000  2493.000000  2611.000000  2654.000000  1750.000000  \n",
       "mean      7.445936     6.991978     8.388357     6.854559     4.856571  \n",
       "std       1.705757     1.930976     0.944475     1.875292     2.534270  \n",
       "min       2.000000     2.000000     4.000000     2.000000     0.000000  \n",
       "25%       6.000000     6.000000     8.000000     5.000000     3.000000  \n",
       "50%       8.000000     7.000000     9.000000     7.000000     4.000000  \n",
       "75%       9.000000     9.000000     9.000000     9.000000     7.000000  \n",
       "max       9.000000     9.000000     9.000000     9.000000     9.000000  "
      ]
     },
     "execution_count": 4,
     "metadata": {},
     "output_type": "execute_result"
    }
   ],
   "source": [
    "df_num.describe()"
   ]
  },
  {
   "cell_type": "code",
   "execution_count": 7,
   "metadata": {},
   "outputs": [
    {
     "data": {
      "text/plain": [
       "ID\n",
       "1       0\n",
       "2       0\n",
       "3       0\n",
       "4       0\n",
       "5       0\n",
       "       ..\n",
       "7431    D\n",
       "7432    C\n",
       "7434    B\n",
       "7435    0\n",
       "7436    C\n",
       "Name: VAL_M3, Length: 2847, dtype: object"
      ]
     },
     "execution_count": 7,
     "metadata": {},
     "output_type": "execute_result"
    }
   ],
   "source": [
    "df['VAL_M3'].fillna(0)"
   ]
  },
  {
   "cell_type": "code",
   "execution_count": 8,
   "metadata": {},
   "outputs": [
    {
     "data": {
      "text/html": [
       "<div>\n",
       "<style scoped>\n",
       "    .dataframe tbody tr th:only-of-type {\n",
       "        vertical-align: middle;\n",
       "    }\n",
       "\n",
       "    .dataframe tbody tr th {\n",
       "        vertical-align: top;\n",
       "    }\n",
       "\n",
       "    .dataframe thead th {\n",
       "        text-align: right;\n",
       "    }\n",
       "</style>\n",
       "<table border=\"1\" class=\"dataframe\">\n",
       "  <thead>\n",
       "    <tr style=\"text-align: right;\">\n",
       "      <th></th>\n",
       "      <th>PAT_SEX</th>\n",
       "      <th>PAT_AGE</th>\n",
       "      <th>VAL_I1</th>\n",
       "      <th>VAL_I2</th>\n",
       "      <th>VAL_C1</th>\n",
       "      <th>VAL_PM1</th>\n",
       "      <th>VAL_PM2</th>\n",
       "      <th>VAL_M1</th>\n",
       "      <th>VAL_M2</th>\n",
       "      <th>VAL_M3</th>\n",
       "    </tr>\n",
       "    <tr>\n",
       "      <th>ID</th>\n",
       "      <th></th>\n",
       "      <th></th>\n",
       "      <th></th>\n",
       "      <th></th>\n",
       "      <th></th>\n",
       "      <th></th>\n",
       "      <th></th>\n",
       "      <th></th>\n",
       "      <th></th>\n",
       "      <th></th>\n",
       "    </tr>\n",
       "  </thead>\n",
       "  <tbody>\n",
       "    <tr>\n",
       "      <th>1</th>\n",
       "      <td>2</td>\n",
       "      <td>5.0</td>\n",
       "      <td>4.0</td>\n",
       "      <td>4.0</td>\n",
       "      <td>4.0</td>\n",
       "      <td>4.0</td>\n",
       "      <td>3.0</td>\n",
       "      <td>6.0</td>\n",
       "      <td>3.0</td>\n",
       "      <td>0.0</td>\n",
       "    </tr>\n",
       "    <tr>\n",
       "      <th>2</th>\n",
       "      <td>2</td>\n",
       "      <td>8.0</td>\n",
       "      <td>8.0</td>\n",
       "      <td>8.0</td>\n",
       "      <td>6.0</td>\n",
       "      <td>6.0</td>\n",
       "      <td>5.0</td>\n",
       "      <td>8.0</td>\n",
       "      <td>5.0</td>\n",
       "      <td>0.0</td>\n",
       "    </tr>\n",
       "    <tr>\n",
       "      <th>3</th>\n",
       "      <td>2</td>\n",
       "      <td>9.0</td>\n",
       "      <td>9.0</td>\n",
       "      <td>9.0</td>\n",
       "      <td>7.0</td>\n",
       "      <td>6.0</td>\n",
       "      <td>6.0</td>\n",
       "      <td>8.0</td>\n",
       "      <td>5.0</td>\n",
       "      <td>0.0</td>\n",
       "    </tr>\n",
       "    <tr>\n",
       "      <th>4</th>\n",
       "      <td>2</td>\n",
       "      <td>10.0</td>\n",
       "      <td>9.0</td>\n",
       "      <td>9.0</td>\n",
       "      <td>7.0</td>\n",
       "      <td>7.0</td>\n",
       "      <td>6.0</td>\n",
       "      <td>9.0</td>\n",
       "      <td>6.0</td>\n",
       "      <td>0.0</td>\n",
       "    </tr>\n",
       "    <tr>\n",
       "      <th>5</th>\n",
       "      <td>2</td>\n",
       "      <td>10.0</td>\n",
       "      <td>9.0</td>\n",
       "      <td>9.0</td>\n",
       "      <td>7.0</td>\n",
       "      <td>7.0</td>\n",
       "      <td>6.0</td>\n",
       "      <td>8.0</td>\n",
       "      <td>6.0</td>\n",
       "      <td>0.0</td>\n",
       "    </tr>\n",
       "    <tr>\n",
       "      <th>...</th>\n",
       "      <td>...</td>\n",
       "      <td>...</td>\n",
       "      <td>...</td>\n",
       "      <td>...</td>\n",
       "      <td>...</td>\n",
       "      <td>...</td>\n",
       "      <td>...</td>\n",
       "      <td>...</td>\n",
       "      <td>...</td>\n",
       "      <td>...</td>\n",
       "    </tr>\n",
       "    <tr>\n",
       "      <th>7431</th>\n",
       "      <td>1</td>\n",
       "      <td>16.0</td>\n",
       "      <td>9.0</td>\n",
       "      <td>9.0</td>\n",
       "      <td>9.0</td>\n",
       "      <td>9.0</td>\n",
       "      <td>NaN</td>\n",
       "      <td>9.0</td>\n",
       "      <td>9.0</td>\n",
       "      <td>5.0</td>\n",
       "    </tr>\n",
       "    <tr>\n",
       "      <th>7432</th>\n",
       "      <td>2</td>\n",
       "      <td>13.0</td>\n",
       "      <td>9.0</td>\n",
       "      <td>9.0</td>\n",
       "      <td>8.0</td>\n",
       "      <td>8.0</td>\n",
       "      <td>7.0</td>\n",
       "      <td>9.0</td>\n",
       "      <td>7.0</td>\n",
       "      <td>4.0</td>\n",
       "    </tr>\n",
       "    <tr>\n",
       "      <th>7434</th>\n",
       "      <td>1</td>\n",
       "      <td>8.0</td>\n",
       "      <td>9.0</td>\n",
       "      <td>9.0</td>\n",
       "      <td>7.0</td>\n",
       "      <td>6.0</td>\n",
       "      <td>6.0</td>\n",
       "      <td>8.0</td>\n",
       "      <td>6.0</td>\n",
       "      <td>3.0</td>\n",
       "    </tr>\n",
       "    <tr>\n",
       "      <th>7435</th>\n",
       "      <td>1</td>\n",
       "      <td>6.0</td>\n",
       "      <td>NaN</td>\n",
       "      <td>NaN</td>\n",
       "      <td>NaN</td>\n",
       "      <td>NaN</td>\n",
       "      <td>NaN</td>\n",
       "      <td>NaN</td>\n",
       "      <td>NaN</td>\n",
       "      <td>0.0</td>\n",
       "    </tr>\n",
       "    <tr>\n",
       "      <th>7436</th>\n",
       "      <td>2</td>\n",
       "      <td>15.0</td>\n",
       "      <td>9.0</td>\n",
       "      <td>9.0</td>\n",
       "      <td>9.0</td>\n",
       "      <td>9.0</td>\n",
       "      <td>8.0</td>\n",
       "      <td>9.0</td>\n",
       "      <td>8.0</td>\n",
       "      <td>4.0</td>\n",
       "    </tr>\n",
       "  </tbody>\n",
       "</table>\n",
       "<p>2847 rows × 10 columns</p>\n",
       "</div>"
      ],
      "text/plain": [
       "      PAT_SEX  PAT_AGE  VAL_I1  VAL_I2  VAL_C1  VAL_PM1  VAL_PM2  VAL_M1  \\\n",
       "ID                                                                         \n",
       "1           2      5.0     4.0     4.0     4.0      4.0      3.0     6.0   \n",
       "2           2      8.0     8.0     8.0     6.0      6.0      5.0     8.0   \n",
       "3           2      9.0     9.0     9.0     7.0      6.0      6.0     8.0   \n",
       "4           2     10.0     9.0     9.0     7.0      7.0      6.0     9.0   \n",
       "5           2     10.0     9.0     9.0     7.0      7.0      6.0     8.0   \n",
       "...       ...      ...     ...     ...     ...      ...      ...     ...   \n",
       "7431        1     16.0     9.0     9.0     9.0      9.0      NaN     9.0   \n",
       "7432        2     13.0     9.0     9.0     8.0      8.0      7.0     9.0   \n",
       "7434        1      8.0     9.0     9.0     7.0      6.0      6.0     8.0   \n",
       "7435        1      6.0     NaN     NaN     NaN      NaN      NaN     NaN   \n",
       "7436        2     15.0     9.0     9.0     9.0      9.0      8.0     9.0   \n",
       "\n",
       "      VAL_M2  VAL_M3  \n",
       "ID                    \n",
       "1        3.0     0.0  \n",
       "2        5.0     0.0  \n",
       "3        5.0     0.0  \n",
       "4        6.0     0.0  \n",
       "5        6.0     0.0  \n",
       "...      ...     ...  \n",
       "7431     9.0     5.0  \n",
       "7432     7.0     4.0  \n",
       "7434     6.0     3.0  \n",
       "7435     NaN     0.0  \n",
       "7436     8.0     4.0  \n",
       "\n",
       "[2847 rows x 10 columns]"
      ]
     },
     "execution_count": 8,
     "metadata": {},
     "output_type": "execute_result"
    }
   ],
   "source": [
    "df_num[\"PAT_AGE\"] = df_num[\"PAT_AGE\"].apply(np.round) \n",
    "df_num['VAL_M3'].fillna(value = 0, inplace = True)\n",
    "df_num"
   ]
  },
  {
   "cell_type": "code",
   "execution_count": 9,
   "metadata": {},
   "outputs": [
    {
     "name": "stdout",
     "output_type": "stream",
     "text": [
      "      PAT_SEX  PAT_AGE  VAL_I1  VAL_I2  VAL_C1  VAL_PM1  VAL_PM2  VAL_M1  \\\n",
      "ID                                                                         \n",
      "1           2      5.0     4.0     4.0     4.0      4.0      3.0     6.0   \n",
      "2           2      8.0     8.0     8.0     6.0      6.0      5.0     8.0   \n",
      "3           2      9.0     9.0     9.0     7.0      6.0      6.0     8.0   \n",
      "4           2     10.0     9.0     9.0     7.0      7.0      6.0     9.0   \n",
      "5           2     10.0     9.0     9.0     7.0      7.0      6.0     8.0   \n",
      "...       ...      ...     ...     ...     ...      ...      ...     ...   \n",
      "7431        1     16.0     9.0     9.0     9.0      9.0      7.0     9.0   \n",
      "7432        2     13.0     9.0     9.0     8.0      8.0      7.0     9.0   \n",
      "7434        1      8.0     9.0     9.0     7.0      6.0      6.0     8.0   \n",
      "7435        1      6.0     8.0     8.0     8.0      7.0      7.0     8.0   \n",
      "7436        2     15.0     9.0     9.0     9.0      9.0      8.0     9.0   \n",
      "\n",
      "      VAL_M2  VAL_M3  \n",
      "ID                    \n",
      "1        3.0     0.0  \n",
      "2        5.0     0.0  \n",
      "3        5.0     0.0  \n",
      "4        6.0     0.0  \n",
      "5        6.0     0.0  \n",
      "...      ...     ...  \n",
      "7431     9.0     5.0  \n",
      "7432     7.0     4.0  \n",
      "7434     6.0     3.0  \n",
      "7435     7.0     0.0  \n",
      "7436     8.0     4.0  \n",
      "\n",
      "[2847 rows x 10 columns]\n"
     ]
    }
   ],
   "source": [
    "df_mean = df_num.fillna(value = df_num.mean(), inplace = True)\n",
    "for col in df.select_dtypes('object'):\n",
    "    df_num[col] = df_num[col].round(decimals = 0)\n",
    "print(df_num)"
   ]
  },
  {
   "cell_type": "code",
   "execution_count": 10,
   "metadata": {},
   "outputs": [
    {
     "data": {
      "text/plain": [
       "2.0       2\n",
       "3.0       8\n",
       "24.0     51\n",
       "18.0     55\n",
       "4.0      56\n",
       "17.0     71\n",
       "19.0     75\n",
       "23.0     76\n",
       "20.0     80\n",
       "21.0     82\n",
       "22.0    100\n",
       "5.0     125\n",
       "16.0    135\n",
       "13.0    163\n",
       "14.0    173\n",
       "15.0    178\n",
       "11.0    183\n",
       "8.0     196\n",
       "6.0     199\n",
       "7.0     201\n",
       "12.0    206\n",
       "10.0    206\n",
       "9.0     226\n",
       "Name: PAT_AGE, dtype: int64"
      ]
     },
     "execution_count": 10,
     "metadata": {},
     "output_type": "execute_result"
    }
   ],
   "source": [
    "df_num['PAT_AGE'].value_counts().sort_values(ascending=True)"
   ]
  },
  {
   "cell_type": "markdown",
   "metadata": {},
   "source": [
    "#### Preprocessing"
   ]
  },
  {
   "cell_type": "code",
   "execution_count": 8,
   "metadata": {},
   "outputs": [
    {
     "data": {
      "text/plain": [
       "9.0     0.079382\n",
       "10.0    0.072357\n",
       "12.0    0.072357\n",
       "7.0     0.070601\n",
       "6.0     0.069898\n",
       "8.0     0.068844\n",
       "11.0    0.064278\n",
       "15.0    0.062522\n",
       "14.0    0.060766\n",
       "13.0    0.057253\n",
       "16.0    0.047418\n",
       "5.0     0.043906\n",
       "22.0    0.035125\n",
       "21.0    0.028802\n",
       "20.0    0.028100\n",
       "23.0    0.026695\n",
       "19.0    0.026344\n",
       "17.0    0.024939\n",
       "4.0     0.019670\n",
       "18.0    0.019319\n",
       "24.0    0.017914\n",
       "3.0     0.002810\n",
       "2.0     0.000702\n",
       "Name: PAT_AGE, dtype: float64"
      ]
     },
     "execution_count": 8,
     "metadata": {},
     "output_type": "execute_result"
    }
   ],
   "source": [
    "df_num['PAT_AGE'].value_counts(normalize = True)"
   ]
  },
  {
   "cell_type": "markdown",
   "metadata": {},
   "source": [
    "### Données d'Entrenaiment et Test"
   ]
  },
  {
   "cell_type": "code",
   "execution_count": 11,
   "metadata": {},
   "outputs": [],
   "source": [
    "X = df_num.drop(columns='PAT_AGE')\n",
    "y = df_num['PAT_AGE']"
   ]
  },
  {
   "cell_type": "code",
   "execution_count": 12,
   "metadata": {},
   "outputs": [],
   "source": [
    "X_train, X_test, y_train, y_test = train_test_split(X, y,  test_size = 0.20)"
   ]
  },
  {
   "cell_type": "markdown",
   "metadata": {},
   "source": [
    "### Procédure d'évaluation"
   ]
  },
  {
   "cell_type": "code",
   "execution_count": 12,
   "metadata": {},
   "outputs": [],
   "source": [
    "def evaluation(model):\n",
    "    \n",
    "    model.fit(X_train, y_train)\n",
    "    ypred = model.predict(X_test)\n",
    "#     print(ypred.shape)\n",
    "    print(\"Score MAE: \",mean_absolute_error(y_test, ypred))   \n",
    "    print(\"Score RMSE: \",np.sqrt(mean_squared_error(y_test, ypred)))   \n",
    "#     print(\"Score MSE: \",mean_squared_error(y_test, y_pred))\n",
    "#     print(\"Score Median AE: \",median_absolute_error(y_test, y_pred))\n",
    "    \n",
    "#     err_hist = np.abs(y - ypred)\n",
    "#     plt.hist(err_hist, bins = 50)\n",
    "#     plt.show"
   ]
  },
  {
   "cell_type": "code",
   "execution_count": 30,
   "metadata": {},
   "outputs": [],
   "source": [
    "mlp = MLPRegressor(random_state=0)\n",
    "xgc = xgb.XGBRegressor(random_state=0)\n",
    "regr = make_pipeline(StandardScaler(), SVR(C=1.0, epsilon=0.2))\n",
    "tree = tree.DecisionTreeRegressor()\n",
    "RDF = RandomForestRegressor(random_state=0)"
   ]
  },
  {
   "cell_type": "code",
   "execution_count": 25,
   "metadata": {},
   "outputs": [],
   "source": [
    "list_models = {   \n",
    "                'XGBoost' : xgc,\n",
    "                'MLP': mlp,\n",
    "                'SVM': regr,\n",
    "                'Tree': tree,\n",
    "                'RandomForest': RDF\n",
    "                }"
   ]
  },
  {
   "cell_type": "code",
   "execution_count": 29,
   "metadata": {},
   "outputs": [
    {
     "name": "stdout",
     "output_type": "stream",
     "text": [
      "XGBoost\n",
      "Score MAE:  1.340582965967948\n",
      "Score RMSE:  2.186947763511593\n",
      "MLP\n"
     ]
    },
    {
     "name": "stderr",
     "output_type": "stream",
     "text": [
      "C:\\ProgramData\\Anaconda3\\lib\\site-packages\\sklearn\\neural_network\\_multilayer_perceptron.py:614: ConvergenceWarning: Stochastic Optimizer: Maximum iterations (200) reached and the optimization hasn't converged yet.\n",
      "  warnings.warn(\n"
     ]
    },
    {
     "name": "stdout",
     "output_type": "stream",
     "text": [
      "Score MAE:  1.454485468033123\n",
      "Score RMSE:  2.255504596379445\n",
      "SVM\n",
      "Score MAE:  1.4322859147082114\n",
      "Score RMSE:  2.311015070210536\n",
      "Tree\n",
      "Score MAE:  1.3761798605116935\n",
      "Score RMSE:  2.2322194881624893\n",
      "RandomForest\n",
      "Score MAE:  1.332315433477663\n",
      "Score RMSE:  2.1846813460503496\n"
     ]
    }
   ],
   "source": [
    "for name, model in list_models.items():\n",
    "    print(name)\n",
    "    evaluation(model)"
   ]
  },
  {
   "cell_type": "markdown",
   "metadata": {},
   "source": [
    "### Optimisation des modeles"
   ]
  },
  {
   "cell_type": "markdown",
   "metadata": {},
   "source": [
    "SVM"
   ]
  },
  {
   "cell_type": "code",
   "execution_count": 11,
   "metadata": {},
   "outputs": [
    {
     "name": "stdout",
     "output_type": "stream",
     "text": [
      "Fitting 5 folds for each of 12 candidates, totalling 60 fits\n",
      "Meilleur score : 0.8451461261380002\n",
      "Meilleur jue de paramètres : {'C': 10, 'gamma': 'auto', 'kernel': 'rbf'}\n"
     ]
    }
   ],
   "source": [
    "# Ensemble des paramètres et leurs valeurs\n",
    "parametres = {\n",
    "                'C': [1, 10], \n",
    "                'gamma': ('scale', 'auto'),\n",
    "                'kernel': ('rbf', 'poly', 'sigmoid')\n",
    "             }\n",
    "\n",
    "# GridSearchCV\n",
    "modele = SVR()\n",
    "grille = GridSearchCV(modele, parametres, cv = 5, n_jobs = -1, verbose = 2)\n",
    "grille.fit(X_train, y_train)\n",
    "\n",
    "# Meilleur score\n",
    "print(\"Meilleur score :\", grille.best_score_)\n",
    "print(\"Meilleur jue de paramètres :\", grille.best_params_)"
   ]
  },
  {
   "cell_type": "markdown",
   "metadata": {},
   "source": [
    "Decision Tree"
   ]
  },
  {
   "cell_type": "code",
   "execution_count": 12,
   "metadata": {},
   "outputs": [
    {
     "name": "stdout",
     "output_type": "stream",
     "text": [
      "Fitting 5 folds for each of 162 candidates, totalling 810 fits\n",
      "Meilleur score : 0.840744636570915\n",
      "Meilleur jue de paramètres : {'criterion': 'mse', 'max_depth': 10, 'max_leaf_nodes': 100, 'min_samples_leaf': 20, 'min_samples_split': 40}\n"
     ]
    }
   ],
   "source": [
    "# Ensemble des paramètres et leurs valeurs\n",
    "parametres = {\n",
    "              \"criterion\": (\"mse\", \"mae\"),\n",
    "              \"min_samples_split\": (10, 20, 40),\n",
    "              \"max_depth\": (10, 40, 100),\n",
    "              \"min_samples_leaf\": (20, 40, 100),\n",
    "              \"max_leaf_nodes\" : (10, 40, 100)\n",
    "             }\n",
    "\n",
    "# GridSearchCV\n",
    "modele = tree.DecisionTreeRegressor()\n",
    "grille = GridSearchCV(modele, parametres, cv = 5, n_jobs = -1, verbose = 2)\n",
    "grille.fit(X_train, y_train)\n",
    "\n",
    "# Meilleur score\n",
    "print(\"Meilleur score :\", grille.best_score_)\n",
    "print(\"Meilleur jue de paramètres :\", grille.best_params_)"
   ]
  },
  {
   "cell_type": "markdown",
   "metadata": {},
   "source": [
    "MLP"
   ]
  },
  {
   "cell_type": "code",
   "execution_count": 13,
   "metadata": {},
   "outputs": [
    {
     "name": "stdout",
     "output_type": "stream",
     "text": [
      "Fitting 5 folds for each of 24 candidates, totalling 120 fits\n",
      "Meilleur score : 0.8445847468148461\n",
      "Meilleur jue de paramètres : {'activation': 'tanh', 'hidden_layer_sizes': 80, 'learning_rate': 'constant', 'solver': 'lbfgs'}\n"
     ]
    },
    {
     "name": "stderr",
     "output_type": "stream",
     "text": [
      "C:\\ProgramData\\Anaconda3\\lib\\site-packages\\sklearn\\neural_network\\_multilayer_perceptron.py:500: ConvergenceWarning: lbfgs failed to converge (status=1):\n",
      "STOP: TOTAL NO. of ITERATIONS REACHED LIMIT.\n",
      "\n",
      "Increase the number of iterations (max_iter) or scale the data as shown in:\n",
      "    https://scikit-learn.org/stable/modules/preprocessing.html\n",
      "  self.n_iter_ = _check_optimize_result(\"lbfgs\", opt_res, self.max_iter)\n"
     ]
    }
   ],
   "source": [
    "# Ensemble des paramètres et leurs valeurs\n",
    "parametres = {'hidden_layer_sizes':[80,100],\n",
    "              'activation':('tanh','relu'),\n",
    "              'solver':('lbfgs','sgd','adam'),\n",
    "              'learning_rate':('constant','adaptive')\n",
    "             }\n",
    "\n",
    "# GridSearchCV\n",
    "modele = MLPRegressor()\n",
    "grille = GridSearchCV(modele, parametres, cv = 5, n_jobs = -1, verbose = 2)\n",
    "grille.fit(X_train, y_train)\n",
    "\n",
    "# Meilleur score\n",
    "print(\"Meilleur score :\", grille.best_score_)\n",
    "print(\"Meilleur jue de paramètres :\", grille.best_params_)"
   ]
  },
  {
   "cell_type": "markdown",
   "metadata": {},
   "source": [
    "XGBoost"
   ]
  },
  {
   "cell_type": "code",
   "execution_count": 14,
   "metadata": {},
   "outputs": [
    {
     "name": "stdout",
     "output_type": "stream",
     "text": [
      "Fitting 5 folds for each of 729 candidates, totalling 3645 fits\n",
      "Meilleur score : 0.8512916435708622\n",
      "Meilleur jue de paramètres : {'colsample_bytree': 0.8, 'gamma': 5, 'max_depth': 4, 'min_child_weight': 5, 'n_estimators': 100, 'subsample': 0.8}\n"
     ]
    }
   ],
   "source": [
    "# Ensemble des paramètres et leurs valeurs\n",
    "parametres = { 'max_depth': (2, 4, 6),\n",
    "           'n_estimators': (100, 500, 1000),\n",
    "           'colsample_bytree': (0.2, 0.6, 0.8),\n",
    "           'min_child_weight': (3, 5, 7),\n",
    "           'gamma': (0, 1, 5),\n",
    "           'subsample': (0.4, 0.6, 0.8)\n",
    "              }\n",
    "\n",
    "# GridSearchCV\n",
    "modele = xgb.XGBRegressor()\n",
    "grille = GridSearchCV(modele, parametres, cv = 5, n_jobs = -1, verbose = 2)\n",
    "grille.fit(X_train, y_train)\n",
    "\n",
    "# Meilleur score\n",
    "print(\"Meilleur score :\", grille.best_score_)\n",
    "print(\"Meilleur jue de paramètres :\", grille.best_params_)"
   ]
  },
  {
   "cell_type": "markdown",
   "metadata": {},
   "source": [
    "Random Rorest"
   ]
  },
  {
   "cell_type": "code",
   "execution_count": 20,
   "metadata": {},
   "outputs": [
    {
     "name": "stdout",
     "output_type": "stream",
     "text": [
      "Fitting 5 folds for each of 24 candidates, totalling 120 fits\n"
     ]
    },
    {
     "name": "stderr",
     "output_type": "stream",
     "text": [
      "[Parallel(n_jobs=-1)]: Using backend LokyBackend with 8 concurrent workers.\n",
      "[Parallel(n_jobs=-1)]: Done  25 tasks      | elapsed:    3.0s\n",
      "[Parallel(n_jobs=-1)]: Done 120 out of 120 | elapsed:   16.2s finished\n"
     ]
    },
    {
     "name": "stdout",
     "output_type": "stream",
     "text": [
      "Meilleur score : 0.827593851908073\n",
      "Meilleur jue de paramètres : {'max_depth': 4, 'max_features': 'auto', 'n_estimators': 100}\n"
     ]
    }
   ],
   "source": [
    "# Ensemble des paramètres et leurs valeurs\n",
    "# parametres = { \n",
    "#     'n_estimators': (100, 150, 200, 250, 300),\n",
    "#     'max_depth': (1,2,3,4)\n",
    "#               }\n",
    "\n",
    "parametres = { \n",
    "    'n_estimators': [100, 300],\n",
    "    'max_features': ['auto', 'sqrt', 'log2'],\n",
    "    'max_depth' : [1,2,3,4]\n",
    "}\n",
    "\n",
    "# GridSearchCV\n",
    "modele = RandomForestRegressor(random_state=0)\n",
    "grille = GridSearchCV(modele, parametres, cv = 5, n_jobs = -1, verbose = 2)\n",
    "grille.fit(X_train, y_train)\n",
    "\n",
    "# Meilleur score\n",
    "print(\"Meilleur score :\", grille.best_score_)\n",
    "print(\"Meilleur jue de paramètres :\", grille.best_params_)"
   ]
  },
  {
   "cell_type": "markdown",
   "metadata": {},
   "source": [
    "## L'utilisation de Boruta pour selectioner les mieux features"
   ]
  },
  {
   "cell_type": "markdown",
   "metadata": {},
   "source": [
    "Une fois que le modèle optimal pour l'entreiment et la prédiction a été identifié. Nous déterminons les meilleures caractéristiques pour optimiser davantage le modèle."
   ]
  },
  {
   "cell_type": "code",
   "execution_count": 26,
   "metadata": {},
   "outputs": [
    {
     "name": "stdout",
     "output_type": "stream",
     "text": [
      "Iteration: \t1 / 100\n",
      "Confirmed: \t0\n",
      "Tentative: \t9\n",
      "Rejected: \t0\n",
      "Iteration: \t2 / 100\n",
      "Confirmed: \t0\n",
      "Tentative: \t9\n",
      "Rejected: \t0\n",
      "Iteration: \t3 / 100\n",
      "Confirmed: \t0\n",
      "Tentative: \t9\n",
      "Rejected: \t0\n",
      "Iteration: \t4 / 100\n",
      "Confirmed: \t0\n",
      "Tentative: \t9\n",
      "Rejected: \t0\n",
      "Iteration: \t5 / 100\n",
      "Confirmed: \t0\n",
      "Tentative: \t9\n",
      "Rejected: \t0\n",
      "Iteration: \t6 / 100\n",
      "Confirmed: \t0\n",
      "Tentative: \t9\n",
      "Rejected: \t0\n",
      "Iteration: \t7 / 100\n",
      "Confirmed: \t0\n",
      "Tentative: \t9\n",
      "Rejected: \t0\n",
      "Iteration: \t8 / 100\n",
      "Confirmed: \t5\n",
      "Tentative: \t0\n",
      "Rejected: \t4\n",
      "\n",
      "\n",
      "BorutaPy finished running.\n",
      "\n",
      "Iteration: \t9 / 100\n",
      "Confirmed: \t5\n",
      "Tentative: \t0\n",
      "Rejected: \t4\n"
     ]
    }
   ],
   "source": [
    "trans = BorutaPy(RDF, random_state=42, verbose=2)\n",
    "sel = trans.fit_transform(X.values, y.values)"
   ]
  },
  {
   "cell_type": "code",
   "execution_count": 27,
   "metadata": {},
   "outputs": [
    {
     "data": {
      "text/plain": [
       "array([False, False,  True,  True,  True, False, False,  True,  True])"
      ]
     },
     "execution_count": 27,
     "metadata": {},
     "output_type": "execute_result"
    }
   ],
   "source": [
    "trans.support_"
   ]
  },
  {
   "cell_type": "code",
   "execution_count": 28,
   "metadata": {},
   "outputs": [
    {
     "data": {
      "text/plain": [
       "Index(['VAL_I2', 'VAL_C1', 'VAL_PM1', 'VAL_M2', 'VAL_M3'], dtype='object')"
      ]
     },
     "execution_count": 28,
     "metadata": {},
     "output_type": "execute_result"
    }
   ],
   "source": [
    "X.columns[trans.support_]"
   ]
  },
  {
   "cell_type": "code",
   "execution_count": 31,
   "metadata": {},
   "outputs": [],
   "source": [
    "# Transformer le dataset pour supprimer les features non importantes\n",
    "X_trans  = trans.transform(X.values)"
   ]
  },
  {
   "cell_type": "code",
   "execution_count": 40,
   "metadata": {},
   "outputs": [],
   "source": [
    "X_train_b, X_test_b, y_train_b, y_test_b = train_test_split(X_trans, y,  test_size = 0.20)"
   ]
  },
  {
   "cell_type": "code",
   "execution_count": 39,
   "metadata": {},
   "outputs": [
    {
     "name": "stdout",
     "output_type": "stream",
     "text": [
      "Fitting 5 folds for each of 24 candidates, totalling 120 fits\n"
     ]
    },
    {
     "name": "stderr",
     "output_type": "stream",
     "text": [
      "[Parallel(n_jobs=-1)]: Using backend LokyBackend with 8 concurrent workers.\n",
      "[Parallel(n_jobs=-1)]: Done  25 tasks      | elapsed:    6.4s\n",
      "[Parallel(n_jobs=-1)]: Done 120 out of 120 | elapsed:   19.3s finished\n"
     ]
    },
    {
     "name": "stdout",
     "output_type": "stream",
     "text": [
      "Meilleur score : 0.8366640698210415\n",
      "Meilleur jue de paramètres : {'max_depth': 4, 'max_features': 'auto', 'n_estimators': 300}\n"
     ]
    }
   ],
   "source": [
    "grille.fit(X_train_b, y_train_b)\n",
    "\n",
    "# Meilleur score\n",
    "print(\"Meilleur score :\", grille.best_score_)\n",
    "print(\"Meilleur jue de paramètres :\", grille.best_params_)"
   ]
  }
 ],
 "metadata": {
  "kernelspec": {
   "display_name": "Python 3",
   "language": "python",
   "name": "python3"
  },
  "language_info": {
   "codemirror_mode": {
    "name": "ipython",
    "version": 3
   },
   "file_extension": ".py",
   "mimetype": "text/x-python",
   "name": "python",
   "nbconvert_exporter": "python",
   "pygments_lexer": "ipython3",
   "version": "3.8.3"
  }
 },
 "nbformat": 4,
 "nbformat_minor": 4
}
