{
 "cells": [
  {
   "cell_type": "markdown",
   "metadata": {},
   "source": [
    "## Projet 2021-2022 / Yu Rui ; Nicolas Diaz"
   ]
  },
  {
   "cell_type": "markdown",
   "metadata": {},
   "source": [
    "#### Charger Dataset"
   ]
  },
  {
   "cell_type": "code",
   "execution_count": 17,
   "metadata": {},
   "outputs": [],
   "source": [
    "import numpy as np\n",
    "import pandas as pd\n",
    "import matplotlib.pyplot as plt\n",
    "import seaborn as sns"
   ]
  },
  {
   "cell_type": "code",
   "execution_count": 109,
   "metadata": {},
   "outputs": [
    {
     "data": {
      "text/html": [
       "<div>\n",
       "<style scoped>\n",
       "    .dataframe tbody tr th:only-of-type {\n",
       "        vertical-align: middle;\n",
       "    }\n",
       "\n",
       "    .dataframe tbody tr th {\n",
       "        vertical-align: top;\n",
       "    }\n",
       "\n",
       "    .dataframe thead th {\n",
       "        text-align: right;\n",
       "    }\n",
       "</style>\n",
       "<table border=\"1\" class=\"dataframe\">\n",
       "  <thead>\n",
       "    <tr style=\"text-align: right;\">\n",
       "      <th></th>\n",
       "      <th>PAT_SEX</th>\n",
       "      <th>PAT_AGE</th>\n",
       "      <th>VAL_I1</th>\n",
       "      <th>VAL_I2</th>\n",
       "      <th>VAL_C1</th>\n",
       "      <th>VAL_PM1</th>\n",
       "      <th>VAL_PM2</th>\n",
       "      <th>VAL_M1</th>\n",
       "      <th>VAL_M2</th>\n",
       "      <th>VAL_M3</th>\n",
       "    </tr>\n",
       "    <tr>\n",
       "      <th>ID</th>\n",
       "      <th></th>\n",
       "      <th></th>\n",
       "      <th></th>\n",
       "      <th></th>\n",
       "      <th></th>\n",
       "      <th></th>\n",
       "      <th></th>\n",
       "      <th></th>\n",
       "      <th></th>\n",
       "      <th></th>\n",
       "    </tr>\n",
       "  </thead>\n",
       "  <tbody>\n",
       "    <tr>\n",
       "      <th>1</th>\n",
       "      <td>2</td>\n",
       "      <td>4.58</td>\n",
       "      <td>C</td>\n",
       "      <td>C</td>\n",
       "      <td>C</td>\n",
       "      <td>C</td>\n",
       "      <td>B</td>\n",
       "      <td>E</td>\n",
       "      <td>B</td>\n",
       "      <td>0</td>\n",
       "    </tr>\n",
       "    <tr>\n",
       "      <th>2</th>\n",
       "      <td>2</td>\n",
       "      <td>8.26</td>\n",
       "      <td>G</td>\n",
       "      <td>G</td>\n",
       "      <td>E</td>\n",
       "      <td>E</td>\n",
       "      <td>D</td>\n",
       "      <td>G</td>\n",
       "      <td>D</td>\n",
       "      <td>0</td>\n",
       "    </tr>\n",
       "    <tr>\n",
       "      <th>3</th>\n",
       "      <td>2</td>\n",
       "      <td>9.04</td>\n",
       "      <td>H</td>\n",
       "      <td>H</td>\n",
       "      <td>F</td>\n",
       "      <td>E</td>\n",
       "      <td>E</td>\n",
       "      <td>G</td>\n",
       "      <td>D</td>\n",
       "      <td>0</td>\n",
       "    </tr>\n",
       "    <tr>\n",
       "      <th>4</th>\n",
       "      <td>2</td>\n",
       "      <td>9.86</td>\n",
       "      <td>H</td>\n",
       "      <td>H</td>\n",
       "      <td>F</td>\n",
       "      <td>F</td>\n",
       "      <td>E</td>\n",
       "      <td>H</td>\n",
       "      <td>E</td>\n",
       "      <td>0</td>\n",
       "    </tr>\n",
       "    <tr>\n",
       "      <th>5</th>\n",
       "      <td>2</td>\n",
       "      <td>10.35</td>\n",
       "      <td>H</td>\n",
       "      <td>H</td>\n",
       "      <td>F</td>\n",
       "      <td>F</td>\n",
       "      <td>E</td>\n",
       "      <td>G</td>\n",
       "      <td>E</td>\n",
       "      <td>0</td>\n",
       "    </tr>\n",
       "    <tr>\n",
       "      <th>...</th>\n",
       "      <td>...</td>\n",
       "      <td>...</td>\n",
       "      <td>...</td>\n",
       "      <td>...</td>\n",
       "      <td>...</td>\n",
       "      <td>...</td>\n",
       "      <td>...</td>\n",
       "      <td>...</td>\n",
       "      <td>...</td>\n",
       "      <td>...</td>\n",
       "    </tr>\n",
       "    <tr>\n",
       "      <th>7431</th>\n",
       "      <td>1</td>\n",
       "      <td>15.89</td>\n",
       "      <td>H</td>\n",
       "      <td>H</td>\n",
       "      <td>H</td>\n",
       "      <td>H</td>\n",
       "      <td>NaN</td>\n",
       "      <td>H</td>\n",
       "      <td>H</td>\n",
       "      <td>D</td>\n",
       "    </tr>\n",
       "    <tr>\n",
       "      <th>7432</th>\n",
       "      <td>2</td>\n",
       "      <td>12.73</td>\n",
       "      <td>H</td>\n",
       "      <td>H</td>\n",
       "      <td>G</td>\n",
       "      <td>G</td>\n",
       "      <td>F</td>\n",
       "      <td>H</td>\n",
       "      <td>F</td>\n",
       "      <td>C</td>\n",
       "    </tr>\n",
       "    <tr>\n",
       "      <th>7434</th>\n",
       "      <td>1</td>\n",
       "      <td>8.39</td>\n",
       "      <td>H</td>\n",
       "      <td>H</td>\n",
       "      <td>F</td>\n",
       "      <td>E</td>\n",
       "      <td>E</td>\n",
       "      <td>G</td>\n",
       "      <td>E</td>\n",
       "      <td>B</td>\n",
       "    </tr>\n",
       "    <tr>\n",
       "      <th>7435</th>\n",
       "      <td>1</td>\n",
       "      <td>6.25</td>\n",
       "      <td>NaN</td>\n",
       "      <td>NaN</td>\n",
       "      <td>NaN</td>\n",
       "      <td>NaN</td>\n",
       "      <td>NaN</td>\n",
       "      <td>NaN</td>\n",
       "      <td>NaN</td>\n",
       "      <td>NaN</td>\n",
       "    </tr>\n",
       "    <tr>\n",
       "      <th>7436</th>\n",
       "      <td>2</td>\n",
       "      <td>15.10</td>\n",
       "      <td>H</td>\n",
       "      <td>H</td>\n",
       "      <td>H</td>\n",
       "      <td>H</td>\n",
       "      <td>G</td>\n",
       "      <td>H</td>\n",
       "      <td>G</td>\n",
       "      <td>C</td>\n",
       "    </tr>\n",
       "  </tbody>\n",
       "</table>\n",
       "<p>2847 rows × 10 columns</p>\n",
       "</div>"
      ],
      "text/plain": [
       "      PAT_SEX  PAT_AGE VAL_I1 VAL_I2 VAL_C1 VAL_PM1 VAL_PM2 VAL_M1 VAL_M2  \\\n",
       "ID                                                                          \n",
       "1           2     4.58      C      C      C       C       B      E      B   \n",
       "2           2     8.26      G      G      E       E       D      G      D   \n",
       "3           2     9.04      H      H      F       E       E      G      D   \n",
       "4           2     9.86      H      H      F       F       E      H      E   \n",
       "5           2    10.35      H      H      F       F       E      G      E   \n",
       "...       ...      ...    ...    ...    ...     ...     ...    ...    ...   \n",
       "7431        1    15.89      H      H      H       H     NaN      H      H   \n",
       "7432        2    12.73      H      H      G       G       F      H      F   \n",
       "7434        1     8.39      H      H      F       E       E      G      E   \n",
       "7435        1     6.25    NaN    NaN    NaN     NaN     NaN    NaN    NaN   \n",
       "7436        2    15.10      H      H      H       H       G      H      G   \n",
       "\n",
       "     VAL_M3  \n",
       "ID           \n",
       "1         0  \n",
       "2         0  \n",
       "3         0  \n",
       "4         0  \n",
       "5         0  \n",
       "...     ...  \n",
       "7431      D  \n",
       "7432      C  \n",
       "7434      B  \n",
       "7435    NaN  \n",
       "7436      C  \n",
       "\n",
       "[2847 rows x 10 columns]"
      ]
     },
     "execution_count": 109,
     "metadata": {},
     "output_type": "execute_result"
    }
   ],
   "source": [
    "df = pd.read_csv('dataset.csv', index_col = 'ID', sep=';')\n",
    "df"
   ]
  },
  {
   "cell_type": "markdown",
   "metadata": {},
   "source": [
    "#### l'analyse exploratoire des données."
   ]
  },
  {
   "cell_type": "code",
   "execution_count": 155,
   "metadata": {},
   "outputs": [
    {
     "data": {
      "text/plain": [
       "Index(['PAT_SEX', 'PAT_AGE', 'VAL_I1', 'VAL_I2', 'VAL_C1', 'VAL_PM1',\n",
       "       'VAL_PM2', 'VAL_M1', 'VAL_M2', 'VAL_M3'],\n",
       "      dtype='object')"
      ]
     },
     "execution_count": 155,
     "metadata": {},
     "output_type": "execute_result"
    }
   ],
   "source": [
    "df.columns"
   ]
  },
  {
   "cell_type": "code",
   "execution_count": 156,
   "metadata": {},
   "outputs": [
    {
     "data": {
      "text/plain": [
       "(2847, 10)"
      ]
     },
     "execution_count": 156,
     "metadata": {},
     "output_type": "execute_result"
    }
   ],
   "source": [
    "df.shape"
   ]
  },
  {
   "cell_type": "code",
   "execution_count": 170,
   "metadata": {},
   "outputs": [
    {
     "data": {
      "text/plain": [
       "object     8\n",
       "int64      1\n",
       "float64    1\n",
       "dtype: int64"
      ]
     },
     "execution_count": 170,
     "metadata": {},
     "output_type": "execute_result"
    }
   ],
   "source": [
    "df.dtypes.value_counts()"
   ]
  },
  {
   "cell_type": "code",
   "execution_count": 182,
   "metadata": {},
   "outputs": [
    {
     "name": "stdout",
     "output_type": "stream",
     "text": [
      "VAL_I1============== ['C' 'G' 'H' nan 'D' 'F' 'E']\n",
      "VAL_I2============== ['C' 'G' 'H' nan 'D' 'E' 'F']\n",
      "VAL_C1============== ['C' 'E' 'F' 'H' nan 'G' 'D']\n",
      "VAL_PM1============= ['C' 'E' 'F' 'H' nan 'G' 'D' 'B' 'A']\n",
      "VAL_PM2============= ['B' 'D' 'E' 'H' nan 'F' 'G' 'C' 'A']\n",
      "VAL_M1============== ['E' 'G' 'H' nan 'F' 'D' 'C']\n",
      "VAL_M2============== ['B' 'D' 'E' 'G' 'H' nan 'F' 'C' 'A']\n",
      "VAL_M3============== ['0' 'D' 'E' 'B' 'C' nan 'H' 'F' 'A' '1' 'G']\n"
     ]
    }
   ],
   "source": [
    "for col in df.select_dtypes('object'):\n",
    "    print(f'{col :=<20} {df[col].unique()}')"
   ]
  },
  {
   "cell_type": "markdown",
   "metadata": {},
   "source": [
    "Valeurs NAN Manquent"
   ]
  },
  {
   "cell_type": "code",
   "execution_count": 171,
   "metadata": {},
   "outputs": [
    {
     "data": {
      "text/plain": [
       "<matplotlib.axes._subplots.AxesSubplot at 0x232e2e97490>"
      ]
     },
     "execution_count": 171,
     "metadata": {},
     "output_type": "execute_result"
    },
    {
     "data": {
      "image/png": "[encoded data removed]",
      "text/plain": [
       "<Figure size 1440x720 with 1 Axes>"
      ]
     },
     "metadata": {
      "needs_background": "light"
     },
     "output_type": "display_data"
    }
   ],
   "source": [
    "plt.figure(figsize=(20,10))\n",
    "sns.heatmap(df.isna(), cbar=False)"
   ]
  },
  {
   "cell_type": "code",
   "execution_count": 172,
   "metadata": {},
   "outputs": [
    {
     "data": {
      "text/plain": [
       "PAT_SEX    0.000000\n",
       "PAT_AGE    0.000000\n",
       "VAL_PM1    0.057956\n",
       "VAL_C1     0.061468\n",
       "VAL_M2     0.067791\n",
       "VAL_M1     0.082894\n",
       "VAL_I2     0.096242\n",
       "VAL_I1     0.111345\n",
       "VAL_PM2    0.124341\n",
       "VAL_M3     0.385318\n",
       "dtype: float64"
      ]
     },
     "execution_count": 172,
     "metadata": {},
     "output_type": "execute_result"
    }
   ],
   "source": [
    "(df.isna().sum()/df.shape[0]).sort_values(ascending=True) ##Pourcentage des valeurs manquent"
   ]
  },
  {
   "cell_type": "markdown",
   "metadata": {},
   "source": [
    "#### Mesuere statistique"
   ]
  },
  {
   "cell_type": "markdown",
   "metadata": {},
   "source": [
    "Moyenne"
   ]
  },
  {
   "cell_type": "code",
   "execution_count": 169,
   "metadata": {},
   "outputs": [
    {
     "name": "stdout",
     "output_type": "stream",
     "text": [
      "Moyenne:\n",
      " PAT_AGE    12.332982\n",
      "VAL_I1      8.411661\n",
      "VAL_I2      8.210046\n",
      "VAL_C1      7.610467\n",
      "VAL_PM1     7.420091\n",
      "VAL_PM2     6.992975\n",
      "VAL_M1      8.356164\n",
      "VAL_M2      6.864419\n",
      "VAL_M3      2.985248\n",
      "dtype: float64\n"
     ]
    }
   ],
   "source": [
    "df1 = df_num.drop(columns = ['PAT_SEX'])\n",
    "df_mean = np.mean(df1)\n",
    "print(\"Moyenne:\\n\",df_mean)"
   ]
  },
  {
   "cell_type": "code",
   "execution_count": 166,
   "metadata": {},
   "outputs": [
    {
     "data": {
      "text/plain": [
       "Text(0.5, 1.0, 'Moyenne')"
      ]
     },
     "execution_count": 166,
     "metadata": {},
     "output_type": "execute_result"
    },
    {
     "data": {
      "image/png": "[encoded data removed]",
      "text/plain": [
       "<Figure size 432x288 with 1 Axes>"
      ]
     },
     "metadata": {
      "needs_background": "light"
     },
     "output_type": "display_data"
    }
   ],
   "source": [
    "moy_gr = df_mean.plot.bar()\n",
    "plt.xlabel('Type_Dent')\n",
    "plt.ylabel('Moy')\n",
    "plt.title('Moyenne',fontweight =\"bold\")"
   ]
  },
  {
   "cell_type": "markdown",
   "metadata": {},
   "source": [
    "L'ecart"
   ]
  },
  {
   "cell_type": "code",
   "execution_count": 167,
   "metadata": {},
   "outputs": [
    {
     "name": "stdout",
     "output_type": "stream",
     "text": [
      "L'ecart-type:\n",
      " PAT_AGE    5.266229\n",
      "VAL_I1     1.015083\n",
      "VAL_I2     1.242101\n",
      "VAL_C1     1.526376\n",
      "VAL_PM1    1.658558\n",
      "VAL_PM2    1.806582\n",
      "VAL_M1     0.910627\n",
      "VAL_M2     1.810641\n",
      "VAL_M3     3.087381\n",
      "dtype: float64\n"
     ]
    }
   ],
   "source": [
    "ecart_type = np.std(df1)\n",
    "print(\"L'ecart-type:\\n\",ecart_type)"
   ]
  },
  {
   "cell_type": "code",
   "execution_count": 168,
   "metadata": {},
   "outputs": [
    {
     "data": {
      "text/plain": [
       "Text(0.5, 1.0, 'l’écart-type')"
      ]
     },
     "execution_count": 168,
     "metadata": {},
     "output_type": "execute_result"
    },
    {
     "data": {
      "image/png": "[encoded data removed]",
      "text/plain": [
       "<Figure size 432x288 with 1 Axes>"
      ]
     },
     "metadata": {
      "needs_background": "light"
     },
     "output_type": "display_data"
    }
   ],
   "source": [
    "ecart_grap = ecart_type.plot.bar()\n",
    "plt.xlabel('Type_Dent')\n",
    "plt.ylabel('Ecart')\n",
    "plt.title('l’écart-type',fontweight =\"bold\")"
   ]
  },
  {
   "cell_type": "markdown",
   "metadata": {},
   "source": [
    "Histogrames des variables continues"
   ]
  },
  {
   "cell_type": "code",
   "execution_count": 175,
   "metadata": {},
   "outputs": [
    {
     "data": {
      "text/plain": [
       "Text(0.5, 1.0, 'Type Dient: VAL_I1')"
      ]
     },
     "execution_count": 175,
     "metadata": {},
     "output_type": "execute_result"
    },
    {
     "data": {
      "image/png": "[encoded data removed]",
      "text/plain": [
       "<Figure size 432x288 with 1 Axes>"
      ]
     },
     "metadata": {
      "needs_background": "light"
     },
     "output_type": "display_data"
    }
   ],
   "source": [
    "df['VAL_I1'].hist(label='VAL_I1')\n",
    "plt.xlabel('Stades Maturité')\n",
    "plt.ylabel('Distribution')\n",
    "plt.title('Type Dient: VAL_I1',fontweight =\"bold\")"
   ]
  },
  {
   "cell_type": "code",
   "execution_count": 176,
   "metadata": {},
   "outputs": [
    {
     "data": {
      "text/plain": [
       "Text(0.5, 1.0, 'Type Dient: VAL_I2')"
      ]
     },
     "execution_count": 176,
     "metadata": {},
     "output_type": "execute_result"
    },
    {
     "data": {
      "image/png": "[encoded data removed]",
      "text/plain": [
       "<Figure size 432x288 with 1 Axes>"
      ]
     },
     "metadata": {
      "needs_background": "light"
     },
     "output_type": "display_data"
    }
   ],
   "source": [
    "df['VAL_I2'].hist(label='VAL_I2')\n",
    "plt.xlabel('Stades Maturité')\n",
    "plt.ylabel('Distribution')\n",
    "plt.title('Type Dient: VAL_I2',fontweight =\"bold\")"
   ]
  },
  {
   "cell_type": "code",
   "execution_count": 177,
   "metadata": {},
   "outputs": [
    {
     "data": {
      "text/plain": [
       "Text(0.5, 1.0, 'Type Dient: VAL_C1')"
      ]
     },
     "execution_count": 177,
     "metadata": {},
     "output_type": "execute_result"
    },
    {
     "data": {
      "image/png": "[encoded data removed]",
      "text/plain": [
       "<Figure size 432x288 with 1 Axes>"
      ]
     },
     "metadata": {
      "needs_background": "light"
     },
     "output_type": "display_data"
    }
   ],
   "source": [
    "df['VAL_C1'].hist(label='VAL_C1')\n",
    "plt.xlabel('Stades Maturité')\n",
    "plt.ylabel('Distribution')\n",
    "plt.title('Type Dient: VAL_C1',fontweight =\"bold\")"
   ]
  },
  {
   "cell_type": "code",
   "execution_count": 178,
   "metadata": {},
   "outputs": [
    {
     "data": {
      "text/plain": [
       "Text(0.5, 1.0, 'Type Dient: VAL_PM2')"
      ]
     },
     "execution_count": 178,
     "metadata": {},
     "output_type": "execute_result"
    },
    {
     "data": {
      "image/png": "[encoded data removed]",
      "text/plain": [
       "<Figure size 432x288 with 1 Axes>"
      ]
     },
     "metadata": {
      "needs_background": "light"
     },
     "output_type": "display_data"
    }
   ],
   "source": [
    "df['VAL_PM2'].hist(label='VAL_PM2')\n",
    "#df2['VAL_PM2'].hist(bin = 25)\n",
    "plt.xlabel('Stades Maturité')\n",
    "plt.ylabel('Distribution')\n",
    "plt.title('Type Dient: VAL_PM2',fontweight =\"bold\")"
   ]
  },
  {
   "cell_type": "code",
   "execution_count": 179,
   "metadata": {},
   "outputs": [
    {
     "data": {
      "text/plain": [
       "Text(0.5, 1.0, 'Type Dient: VAL_M1')"
      ]
     },
     "execution_count": 179,
     "metadata": {},
     "output_type": "execute_result"
    },
    {
     "data": {
      "image/png": "[encoded data removed]",
      "text/plain": [
       "<Figure size 432x288 with 1 Axes>"
      ]
     },
     "metadata": {
      "needs_background": "light"
     },
     "output_type": "display_data"
    }
   ],
   "source": [
    "df['VAL_M1'].hist(label='VAL_M1')\n",
    "plt.xlabel('Stades Maturité')\n",
    "plt.ylabel('Distribution')\n",
    "plt.title('Type Dient: VAL_M1',fontweight =\"bold\")"
   ]
  },
  {
   "cell_type": "code",
   "execution_count": 180,
   "metadata": {},
   "outputs": [
    {
     "data": {
      "text/plain": [
       "Text(0.5, 1.0, 'Type Dient: VAL_M2')"
      ]
     },
     "execution_count": 180,
     "metadata": {},
     "output_type": "execute_result"
    },
    {
     "data": {
      "image/png": "[encoded data removed]",
      "text/plain": [
       "<Figure size 432x288 with 1 Axes>"
      ]
     },
     "metadata": {
      "needs_background": "light"
     },
     "output_type": "display_data"
    }
   ],
   "source": [
    "df['VAL_M2'].hist(label='VAL_M2')\n",
    "plt.xlabel('Stades Maturité')\n",
    "plt.ylabel('Distribution')\n",
    "plt.title('Type Dient: VAL_M2',fontweight =\"bold\")"
   ]
  },
  {
   "cell_type": "code",
   "execution_count": 181,
   "metadata": {},
   "outputs": [
    {
     "data": {
      "text/plain": [
       "Text(0.5, 1.0, 'Type Dient: VAL_M3')"
      ]
     },
     "execution_count": 181,
     "metadata": {},
     "output_type": "execute_result"
    },
    {
     "data": {
      "image/png": "[encoded data removed]",
      "text/plain": [
       "<Figure size 432x288 with 1 Axes>"
      ]
     },
     "metadata": {
      "needs_background": "light"
     },
     "output_type": "display_data"
    }
   ],
   "source": [
    "df['VAL_M3'].hist(label='VAL_M3')\n",
    "plt.xlabel('Stades Maturité')\n",
    "plt.ylabel('Distribution')\n",
    "plt.title('Type Dient: VAL_M3',fontweight =\"bold\")"
   ]
  },
  {
   "cell_type": "code",
   "execution_count": null,
   "metadata": {},
   "outputs": [],
   "source": []
  },
  {
   "cell_type": "code",
   "execution_count": null,
   "metadata": {},
   "outputs": [],
   "source": []
  },
  {
   "cell_type": "markdown",
   "metadata": {},
   "source": [
    "#### Nettoyage des données."
   ]
  },
  {
   "cell_type": "code",
   "execution_count": 110,
   "metadata": {},
   "outputs": [
    {
     "data": {
      "text/html": [
       "<div>\n",
       "<style scoped>\n",
       "    .dataframe tbody tr th:only-of-type {\n",
       "        vertical-align: middle;\n",
       "    }\n",
       "\n",
       "    .dataframe tbody tr th {\n",
       "        vertical-align: top;\n",
       "    }\n",
       "\n",
       "    .dataframe thead th {\n",
       "        text-align: right;\n",
       "    }\n",
       "</style>\n",
       "<table border=\"1\" class=\"dataframe\">\n",
       "  <thead>\n",
       "    <tr style=\"text-align: right;\">\n",
       "      <th></th>\n",
       "      <th>PAT_SEX</th>\n",
       "      <th>PAT_AGE</th>\n",
       "      <th>VAL_I1</th>\n",
       "      <th>VAL_I2</th>\n",
       "      <th>VAL_C1</th>\n",
       "      <th>VAL_PM1</th>\n",
       "      <th>VAL_PM2</th>\n",
       "      <th>VAL_M1</th>\n",
       "      <th>VAL_M2</th>\n",
       "      <th>VAL_M3</th>\n",
       "    </tr>\n",
       "    <tr>\n",
       "      <th>ID</th>\n",
       "      <th></th>\n",
       "      <th></th>\n",
       "      <th></th>\n",
       "      <th></th>\n",
       "      <th></th>\n",
       "      <th></th>\n",
       "      <th></th>\n",
       "      <th></th>\n",
       "      <th></th>\n",
       "      <th></th>\n",
       "    </tr>\n",
       "  </thead>\n",
       "  <tbody>\n",
       "    <tr>\n",
       "      <th>1</th>\n",
       "      <td>2</td>\n",
       "      <td>4.58</td>\n",
       "      <td>4.0</td>\n",
       "      <td>4.0</td>\n",
       "      <td>4.0</td>\n",
       "      <td>4.0</td>\n",
       "      <td>3.0</td>\n",
       "      <td>6.0</td>\n",
       "      <td>3.0</td>\n",
       "      <td>0.0</td>\n",
       "    </tr>\n",
       "    <tr>\n",
       "      <th>2</th>\n",
       "      <td>2</td>\n",
       "      <td>8.26</td>\n",
       "      <td>8.0</td>\n",
       "      <td>8.0</td>\n",
       "      <td>6.0</td>\n",
       "      <td>6.0</td>\n",
       "      <td>5.0</td>\n",
       "      <td>8.0</td>\n",
       "      <td>5.0</td>\n",
       "      <td>0.0</td>\n",
       "    </tr>\n",
       "    <tr>\n",
       "      <th>3</th>\n",
       "      <td>2</td>\n",
       "      <td>9.04</td>\n",
       "      <td>9.0</td>\n",
       "      <td>9.0</td>\n",
       "      <td>7.0</td>\n",
       "      <td>6.0</td>\n",
       "      <td>6.0</td>\n",
       "      <td>8.0</td>\n",
       "      <td>5.0</td>\n",
       "      <td>0.0</td>\n",
       "    </tr>\n",
       "    <tr>\n",
       "      <th>4</th>\n",
       "      <td>2</td>\n",
       "      <td>9.86</td>\n",
       "      <td>9.0</td>\n",
       "      <td>9.0</td>\n",
       "      <td>7.0</td>\n",
       "      <td>7.0</td>\n",
       "      <td>6.0</td>\n",
       "      <td>9.0</td>\n",
       "      <td>6.0</td>\n",
       "      <td>0.0</td>\n",
       "    </tr>\n",
       "    <tr>\n",
       "      <th>5</th>\n",
       "      <td>2</td>\n",
       "      <td>10.35</td>\n",
       "      <td>9.0</td>\n",
       "      <td>9.0</td>\n",
       "      <td>7.0</td>\n",
       "      <td>7.0</td>\n",
       "      <td>6.0</td>\n",
       "      <td>8.0</td>\n",
       "      <td>6.0</td>\n",
       "      <td>0.0</td>\n",
       "    </tr>\n",
       "    <tr>\n",
       "      <th>...</th>\n",
       "      <td>...</td>\n",
       "      <td>...</td>\n",
       "      <td>...</td>\n",
       "      <td>...</td>\n",
       "      <td>...</td>\n",
       "      <td>...</td>\n",
       "      <td>...</td>\n",
       "      <td>...</td>\n",
       "      <td>...</td>\n",
       "      <td>...</td>\n",
       "    </tr>\n",
       "    <tr>\n",
       "      <th>7431</th>\n",
       "      <td>1</td>\n",
       "      <td>15.89</td>\n",
       "      <td>9.0</td>\n",
       "      <td>9.0</td>\n",
       "      <td>9.0</td>\n",
       "      <td>9.0</td>\n",
       "      <td>NaN</td>\n",
       "      <td>9.0</td>\n",
       "      <td>9.0</td>\n",
       "      <td>5.0</td>\n",
       "    </tr>\n",
       "    <tr>\n",
       "      <th>7432</th>\n",
       "      <td>2</td>\n",
       "      <td>12.73</td>\n",
       "      <td>9.0</td>\n",
       "      <td>9.0</td>\n",
       "      <td>8.0</td>\n",
       "      <td>8.0</td>\n",
       "      <td>7.0</td>\n",
       "      <td>9.0</td>\n",
       "      <td>7.0</td>\n",
       "      <td>4.0</td>\n",
       "    </tr>\n",
       "    <tr>\n",
       "      <th>7434</th>\n",
       "      <td>1</td>\n",
       "      <td>8.39</td>\n",
       "      <td>9.0</td>\n",
       "      <td>9.0</td>\n",
       "      <td>7.0</td>\n",
       "      <td>6.0</td>\n",
       "      <td>6.0</td>\n",
       "      <td>8.0</td>\n",
       "      <td>6.0</td>\n",
       "      <td>3.0</td>\n",
       "    </tr>\n",
       "    <tr>\n",
       "      <th>7435</th>\n",
       "      <td>1</td>\n",
       "      <td>6.25</td>\n",
       "      <td>NaN</td>\n",
       "      <td>NaN</td>\n",
       "      <td>NaN</td>\n",
       "      <td>NaN</td>\n",
       "      <td>NaN</td>\n",
       "      <td>NaN</td>\n",
       "      <td>NaN</td>\n",
       "      <td>NaN</td>\n",
       "    </tr>\n",
       "    <tr>\n",
       "      <th>7436</th>\n",
       "      <td>2</td>\n",
       "      <td>15.10</td>\n",
       "      <td>9.0</td>\n",
       "      <td>9.0</td>\n",
       "      <td>9.0</td>\n",
       "      <td>9.0</td>\n",
       "      <td>8.0</td>\n",
       "      <td>9.0</td>\n",
       "      <td>8.0</td>\n",
       "      <td>4.0</td>\n",
       "    </tr>\n",
       "  </tbody>\n",
       "</table>\n",
       "<p>2847 rows × 10 columns</p>\n",
       "</div>"
      ],
      "text/plain": [
       "      PAT_SEX  PAT_AGE  VAL_I1  VAL_I2  VAL_C1  VAL_PM1  VAL_PM2  VAL_M1  \\\n",
       "ID                                                                         \n",
       "1           2     4.58     4.0     4.0     4.0      4.0      3.0     6.0   \n",
       "2           2     8.26     8.0     8.0     6.0      6.0      5.0     8.0   \n",
       "3           2     9.04     9.0     9.0     7.0      6.0      6.0     8.0   \n",
       "4           2     9.86     9.0     9.0     7.0      7.0      6.0     9.0   \n",
       "5           2    10.35     9.0     9.0     7.0      7.0      6.0     8.0   \n",
       "...       ...      ...     ...     ...     ...      ...      ...     ...   \n",
       "7431        1    15.89     9.0     9.0     9.0      9.0      NaN     9.0   \n",
       "7432        2    12.73     9.0     9.0     8.0      8.0      7.0     9.0   \n",
       "7434        1     8.39     9.0     9.0     7.0      6.0      6.0     8.0   \n",
       "7435        1     6.25     NaN     NaN     NaN      NaN      NaN     NaN   \n",
       "7436        2    15.10     9.0     9.0     9.0      9.0      8.0     9.0   \n",
       "\n",
       "      VAL_M2  VAL_M3  \n",
       "ID                    \n",
       "1        3.0     0.0  \n",
       "2        5.0     0.0  \n",
       "3        5.0     0.0  \n",
       "4        6.0     0.0  \n",
       "5        6.0     0.0  \n",
       "...      ...     ...  \n",
       "7431     9.0     5.0  \n",
       "7432     7.0     4.0  \n",
       "7434     6.0     3.0  \n",
       "7435     NaN     NaN  \n",
       "7436     8.0     4.0  \n",
       "\n",
       "[2847 rows x 10 columns]"
      ]
     },
     "execution_count": 110,
     "metadata": {},
     "output_type": "execute_result"
    }
   ],
   "source": [
    "df_num = df.replace({'A' : 2, 'B' : 3, 'C' : 4, 'D' : 5, 'E' : 6, 'F' : 7, 'G' : 8, 'H' : 9})\n",
    "df_num[\"VAL_M3\"] = pd.to_numeric(df_num[\"VAL_M3\"])\n",
    "# df.describe()\n",
    "df_num"
   ]
  },
  {
   "cell_type": "code",
   "execution_count": 154,
   "metadata": {},
   "outputs": [
    {
     "data": {
      "text/html": [
       "<div>\n",
       "<style scoped>\n",
       "    .dataframe tbody tr th:only-of-type {\n",
       "        vertical-align: middle;\n",
       "    }\n",
       "\n",
       "    .dataframe tbody tr th {\n",
       "        vertical-align: top;\n",
       "    }\n",
       "\n",
       "    .dataframe thead th {\n",
       "        text-align: right;\n",
       "    }\n",
       "</style>\n",
       "<table border=\"1\" class=\"dataframe\">\n",
       "  <thead>\n",
       "    <tr style=\"text-align: right;\">\n",
       "      <th></th>\n",
       "      <th>PAT_SEX</th>\n",
       "      <th>PAT_AGE</th>\n",
       "      <th>VAL_I1</th>\n",
       "      <th>VAL_I2</th>\n",
       "      <th>VAL_C1</th>\n",
       "      <th>VAL_PM1</th>\n",
       "      <th>VAL_PM2</th>\n",
       "      <th>VAL_M1</th>\n",
       "      <th>VAL_M2</th>\n",
       "      <th>VAL_M3</th>\n",
       "    </tr>\n",
       "  </thead>\n",
       "  <tbody>\n",
       "    <tr>\n",
       "      <th>count</th>\n",
       "      <td>2847.000000</td>\n",
       "      <td>2847.000000</td>\n",
       "      <td>2847.000000</td>\n",
       "      <td>2847.000000</td>\n",
       "      <td>2847.000000</td>\n",
       "      <td>2847.000000</td>\n",
       "      <td>2847.000000</td>\n",
       "      <td>2847.000000</td>\n",
       "      <td>2847.000000</td>\n",
       "      <td>2847.000000</td>\n",
       "    </tr>\n",
       "    <tr>\n",
       "      <th>mean</th>\n",
       "      <td>1.511416</td>\n",
       "      <td>12.332982</td>\n",
       "      <td>8.411661</td>\n",
       "      <td>8.210046</td>\n",
       "      <td>7.610467</td>\n",
       "      <td>7.420091</td>\n",
       "      <td>6.992975</td>\n",
       "      <td>8.356164</td>\n",
       "      <td>6.864419</td>\n",
       "      <td>2.985248</td>\n",
       "    </tr>\n",
       "    <tr>\n",
       "      <th>std</th>\n",
       "      <td>0.499957</td>\n",
       "      <td>5.267154</td>\n",
       "      <td>1.015262</td>\n",
       "      <td>1.242319</td>\n",
       "      <td>1.526644</td>\n",
       "      <td>1.658850</td>\n",
       "      <td>1.806899</td>\n",
       "      <td>0.910787</td>\n",
       "      <td>1.810959</td>\n",
       "      <td>3.087923</td>\n",
       "    </tr>\n",
       "    <tr>\n",
       "      <th>min</th>\n",
       "      <td>1.000000</td>\n",
       "      <td>2.000000</td>\n",
       "      <td>4.000000</td>\n",
       "      <td>4.000000</td>\n",
       "      <td>4.000000</td>\n",
       "      <td>2.000000</td>\n",
       "      <td>2.000000</td>\n",
       "      <td>4.000000</td>\n",
       "      <td>2.000000</td>\n",
       "      <td>0.000000</td>\n",
       "    </tr>\n",
       "    <tr>\n",
       "      <th>25%</th>\n",
       "      <td>1.000000</td>\n",
       "      <td>8.000000</td>\n",
       "      <td>8.000000</td>\n",
       "      <td>8.000000</td>\n",
       "      <td>7.000000</td>\n",
       "      <td>6.000000</td>\n",
       "      <td>6.000000</td>\n",
       "      <td>8.000000</td>\n",
       "      <td>6.000000</td>\n",
       "      <td>0.000000</td>\n",
       "    </tr>\n",
       "    <tr>\n",
       "      <th>50%</th>\n",
       "      <td>2.000000</td>\n",
       "      <td>12.000000</td>\n",
       "      <td>9.000000</td>\n",
       "      <td>9.000000</td>\n",
       "      <td>8.000000</td>\n",
       "      <td>7.000000</td>\n",
       "      <td>7.000000</td>\n",
       "      <td>9.000000</td>\n",
       "      <td>7.000000</td>\n",
       "      <td>3.000000</td>\n",
       "    </tr>\n",
       "    <tr>\n",
       "      <th>75%</th>\n",
       "      <td>2.000000</td>\n",
       "      <td>16.000000</td>\n",
       "      <td>9.000000</td>\n",
       "      <td>9.000000</td>\n",
       "      <td>9.000000</td>\n",
       "      <td>9.000000</td>\n",
       "      <td>9.000000</td>\n",
       "      <td>9.000000</td>\n",
       "      <td>9.000000</td>\n",
       "      <td>5.000000</td>\n",
       "    </tr>\n",
       "    <tr>\n",
       "      <th>max</th>\n",
       "      <td>2.000000</td>\n",
       "      <td>24.000000</td>\n",
       "      <td>9.000000</td>\n",
       "      <td>9.000000</td>\n",
       "      <td>9.000000</td>\n",
       "      <td>9.000000</td>\n",
       "      <td>9.000000</td>\n",
       "      <td>9.000000</td>\n",
       "      <td>9.000000</td>\n",
       "      <td>9.000000</td>\n",
       "    </tr>\n",
       "  </tbody>\n",
       "</table>\n",
       "</div>"
      ],
      "text/plain": [
       "           PAT_SEX      PAT_AGE       VAL_I1       VAL_I2       VAL_C1  \\\n",
       "count  2847.000000  2847.000000  2847.000000  2847.000000  2847.000000   \n",
       "mean      1.511416    12.332982     8.411661     8.210046     7.610467   \n",
       "std       0.499957     5.267154     1.015262     1.242319     1.526644   \n",
       "min       1.000000     2.000000     4.000000     4.000000     4.000000   \n",
       "25%       1.000000     8.000000     8.000000     8.000000     7.000000   \n",
       "50%       2.000000    12.000000     9.000000     9.000000     8.000000   \n",
       "75%       2.000000    16.000000     9.000000     9.000000     9.000000   \n",
       "max       2.000000    24.000000     9.000000     9.000000     9.000000   \n",
       "\n",
       "           VAL_PM1      VAL_PM2       VAL_M1       VAL_M2       VAL_M3  \n",
       "count  2847.000000  2847.000000  2847.000000  2847.000000  2847.000000  \n",
       "mean      7.420091     6.992975     8.356164     6.864419     2.985248  \n",
       "std       1.658850     1.806899     0.910787     1.810959     3.087923  \n",
       "min       2.000000     2.000000     4.000000     2.000000     0.000000  \n",
       "25%       6.000000     6.000000     8.000000     6.000000     0.000000  \n",
       "50%       7.000000     7.000000     9.000000     7.000000     3.000000  \n",
       "75%       9.000000     9.000000     9.000000     9.000000     5.000000  \n",
       "max       9.000000     9.000000     9.000000     9.000000     9.000000  "
      ]
     },
     "execution_count": 154,
     "metadata": {},
     "output_type": "execute_result"
    }
   ],
   "source": [
    "df_num.describe()"
   ]
  },
  {
   "cell_type": "code",
   "execution_count": 112,
   "metadata": {},
   "outputs": [
    {
     "data": {
      "text/plain": [
       "ID\n",
       "1       0\n",
       "2       0\n",
       "3       0\n",
       "4       0\n",
       "5       0\n",
       "       ..\n",
       "7431    D\n",
       "7432    C\n",
       "7434    B\n",
       "7435    0\n",
       "7436    C\n",
       "Name: VAL_M3, Length: 2847, dtype: object"
      ]
     },
     "execution_count": 112,
     "metadata": {},
     "output_type": "execute_result"
    }
   ],
   "source": [
    "df['VAL_M3'].fillna(0)"
   ]
  },
  {
   "cell_type": "code",
   "execution_count": 145,
   "metadata": {},
   "outputs": [
    {
     "data": {
      "text/html": [
       "<div>\n",
       "<style scoped>\n",
       "    .dataframe tbody tr th:only-of-type {\n",
       "        vertical-align: middle;\n",
       "    }\n",
       "\n",
       "    .dataframe tbody tr th {\n",
       "        vertical-align: top;\n",
       "    }\n",
       "\n",
       "    .dataframe thead th {\n",
       "        text-align: right;\n",
       "    }\n",
       "</style>\n",
       "<table border=\"1\" class=\"dataframe\">\n",
       "  <thead>\n",
       "    <tr style=\"text-align: right;\">\n",
       "      <th></th>\n",
       "      <th>PAT_SEX</th>\n",
       "      <th>PAT_AGE</th>\n",
       "      <th>VAL_I1</th>\n",
       "      <th>VAL_I2</th>\n",
       "      <th>VAL_C1</th>\n",
       "      <th>VAL_PM1</th>\n",
       "      <th>VAL_PM2</th>\n",
       "      <th>VAL_M1</th>\n",
       "      <th>VAL_M2</th>\n",
       "      <th>VAL_M3</th>\n",
       "    </tr>\n",
       "    <tr>\n",
       "      <th>ID</th>\n",
       "      <th></th>\n",
       "      <th></th>\n",
       "      <th></th>\n",
       "      <th></th>\n",
       "      <th></th>\n",
       "      <th></th>\n",
       "      <th></th>\n",
       "      <th></th>\n",
       "      <th></th>\n",
       "      <th></th>\n",
       "    </tr>\n",
       "  </thead>\n",
       "  <tbody>\n",
       "    <tr>\n",
       "      <th>1</th>\n",
       "      <td>2</td>\n",
       "      <td>5.0</td>\n",
       "      <td>4.0</td>\n",
       "      <td>4.0</td>\n",
       "      <td>4.0</td>\n",
       "      <td>4.0</td>\n",
       "      <td>3.0</td>\n",
       "      <td>6.0</td>\n",
       "      <td>3.0</td>\n",
       "      <td>0.0</td>\n",
       "    </tr>\n",
       "    <tr>\n",
       "      <th>2</th>\n",
       "      <td>2</td>\n",
       "      <td>8.0</td>\n",
       "      <td>8.0</td>\n",
       "      <td>8.0</td>\n",
       "      <td>6.0</td>\n",
       "      <td>6.0</td>\n",
       "      <td>5.0</td>\n",
       "      <td>8.0</td>\n",
       "      <td>5.0</td>\n",
       "      <td>0.0</td>\n",
       "    </tr>\n",
       "    <tr>\n",
       "      <th>3</th>\n",
       "      <td>2</td>\n",
       "      <td>9.0</td>\n",
       "      <td>9.0</td>\n",
       "      <td>9.0</td>\n",
       "      <td>7.0</td>\n",
       "      <td>6.0</td>\n",
       "      <td>6.0</td>\n",
       "      <td>8.0</td>\n",
       "      <td>5.0</td>\n",
       "      <td>0.0</td>\n",
       "    </tr>\n",
       "    <tr>\n",
       "      <th>4</th>\n",
       "      <td>2</td>\n",
       "      <td>10.0</td>\n",
       "      <td>9.0</td>\n",
       "      <td>9.0</td>\n",
       "      <td>7.0</td>\n",
       "      <td>7.0</td>\n",
       "      <td>6.0</td>\n",
       "      <td>9.0</td>\n",
       "      <td>6.0</td>\n",
       "      <td>0.0</td>\n",
       "    </tr>\n",
       "    <tr>\n",
       "      <th>5</th>\n",
       "      <td>2</td>\n",
       "      <td>10.0</td>\n",
       "      <td>9.0</td>\n",
       "      <td>9.0</td>\n",
       "      <td>7.0</td>\n",
       "      <td>7.0</td>\n",
       "      <td>6.0</td>\n",
       "      <td>8.0</td>\n",
       "      <td>6.0</td>\n",
       "      <td>0.0</td>\n",
       "    </tr>\n",
       "    <tr>\n",
       "      <th>...</th>\n",
       "      <td>...</td>\n",
       "      <td>...</td>\n",
       "      <td>...</td>\n",
       "      <td>...</td>\n",
       "      <td>...</td>\n",
       "      <td>...</td>\n",
       "      <td>...</td>\n",
       "      <td>...</td>\n",
       "      <td>...</td>\n",
       "      <td>...</td>\n",
       "    </tr>\n",
       "    <tr>\n",
       "      <th>7431</th>\n",
       "      <td>1</td>\n",
       "      <td>16.0</td>\n",
       "      <td>9.0</td>\n",
       "      <td>9.0</td>\n",
       "      <td>9.0</td>\n",
       "      <td>9.0</td>\n",
       "      <td>7.0</td>\n",
       "      <td>9.0</td>\n",
       "      <td>9.0</td>\n",
       "      <td>5.0</td>\n",
       "    </tr>\n",
       "    <tr>\n",
       "      <th>7432</th>\n",
       "      <td>2</td>\n",
       "      <td>13.0</td>\n",
       "      <td>9.0</td>\n",
       "      <td>9.0</td>\n",
       "      <td>8.0</td>\n",
       "      <td>8.0</td>\n",
       "      <td>7.0</td>\n",
       "      <td>9.0</td>\n",
       "      <td>7.0</td>\n",
       "      <td>4.0</td>\n",
       "    </tr>\n",
       "    <tr>\n",
       "      <th>7434</th>\n",
       "      <td>1</td>\n",
       "      <td>8.0</td>\n",
       "      <td>9.0</td>\n",
       "      <td>9.0</td>\n",
       "      <td>7.0</td>\n",
       "      <td>6.0</td>\n",
       "      <td>6.0</td>\n",
       "      <td>8.0</td>\n",
       "      <td>6.0</td>\n",
       "      <td>3.0</td>\n",
       "    </tr>\n",
       "    <tr>\n",
       "      <th>7435</th>\n",
       "      <td>1</td>\n",
       "      <td>6.0</td>\n",
       "      <td>8.0</td>\n",
       "      <td>8.0</td>\n",
       "      <td>8.0</td>\n",
       "      <td>7.0</td>\n",
       "      <td>7.0</td>\n",
       "      <td>8.0</td>\n",
       "      <td>7.0</td>\n",
       "      <td>0.0</td>\n",
       "    </tr>\n",
       "    <tr>\n",
       "      <th>7436</th>\n",
       "      <td>2</td>\n",
       "      <td>15.0</td>\n",
       "      <td>9.0</td>\n",
       "      <td>9.0</td>\n",
       "      <td>9.0</td>\n",
       "      <td>9.0</td>\n",
       "      <td>8.0</td>\n",
       "      <td>9.0</td>\n",
       "      <td>8.0</td>\n",
       "      <td>4.0</td>\n",
       "    </tr>\n",
       "  </tbody>\n",
       "</table>\n",
       "<p>2847 rows × 10 columns</p>\n",
       "</div>"
      ],
      "text/plain": [
       "      PAT_SEX  PAT_AGE  VAL_I1  VAL_I2  VAL_C1  VAL_PM1  VAL_PM2  VAL_M1  \\\n",
       "ID                                                                         \n",
       "1           2      5.0     4.0     4.0     4.0      4.0      3.0     6.0   \n",
       "2           2      8.0     8.0     8.0     6.0      6.0      5.0     8.0   \n",
       "3           2      9.0     9.0     9.0     7.0      6.0      6.0     8.0   \n",
       "4           2     10.0     9.0     9.0     7.0      7.0      6.0     9.0   \n",
       "5           2     10.0     9.0     9.0     7.0      7.0      6.0     8.0   \n",
       "...       ...      ...     ...     ...     ...      ...      ...     ...   \n",
       "7431        1     16.0     9.0     9.0     9.0      9.0      7.0     9.0   \n",
       "7432        2     13.0     9.0     9.0     8.0      8.0      7.0     9.0   \n",
       "7434        1      8.0     9.0     9.0     7.0      6.0      6.0     8.0   \n",
       "7435        1      6.0     8.0     8.0     8.0      7.0      7.0     8.0   \n",
       "7436        2     15.0     9.0     9.0     9.0      9.0      8.0     9.0   \n",
       "\n",
       "      VAL_M2  VAL_M3  \n",
       "ID                    \n",
       "1        3.0     0.0  \n",
       "2        5.0     0.0  \n",
       "3        5.0     0.0  \n",
       "4        6.0     0.0  \n",
       "5        6.0     0.0  \n",
       "...      ...     ...  \n",
       "7431     9.0     5.0  \n",
       "7432     7.0     4.0  \n",
       "7434     6.0     3.0  \n",
       "7435     7.0     0.0  \n",
       "7436     8.0     4.0  \n",
       "\n",
       "[2847 rows x 10 columns]"
      ]
     },
     "execution_count": 145,
     "metadata": {},
     "output_type": "execute_result"
    }
   ],
   "source": [
    "df_num[\"PAT_AGE\"] = df_num[\"PAT_AGE\"].apply(np.round) \n",
    "df_num['VAL_M3'].fillna(value = 0, inplace = True)\n",
    "df_num"
   ]
  },
  {
   "cell_type": "code",
   "execution_count": 146,
   "metadata": {},
   "outputs": [
    {
     "name": "stdout",
     "output_type": "stream",
     "text": [
      "      PAT_SEX  PAT_AGE  VAL_I1  VAL_I2  VAL_C1  VAL_PM1  VAL_PM2  VAL_M1  \\\n",
      "ID                                                                         \n",
      "1           2      5.0     4.0     4.0     4.0      4.0      3.0     6.0   \n",
      "2           2      8.0     8.0     8.0     6.0      6.0      5.0     8.0   \n",
      "3           2      9.0     9.0     9.0     7.0      6.0      6.0     8.0   \n",
      "4           2     10.0     9.0     9.0     7.0      7.0      6.0     9.0   \n",
      "5           2     10.0     9.0     9.0     7.0      7.0      6.0     8.0   \n",
      "...       ...      ...     ...     ...     ...      ...      ...     ...   \n",
      "7431        1     16.0     9.0     9.0     9.0      9.0      7.0     9.0   \n",
      "7432        2     13.0     9.0     9.0     8.0      8.0      7.0     9.0   \n",
      "7434        1      8.0     9.0     9.0     7.0      6.0      6.0     8.0   \n",
      "7435        1      6.0     8.0     8.0     8.0      7.0      7.0     8.0   \n",
      "7436        2     15.0     9.0     9.0     9.0      9.0      8.0     9.0   \n",
      "\n",
      "      VAL_M2  VAL_M3  \n",
      "ID                    \n",
      "1        3.0     0.0  \n",
      "2        5.0     0.0  \n",
      "3        5.0     0.0  \n",
      "4        6.0     0.0  \n",
      "5        6.0     0.0  \n",
      "...      ...     ...  \n",
      "7431     9.0     5.0  \n",
      "7432     7.0     4.0  \n",
      "7434     6.0     3.0  \n",
      "7435     7.0     0.0  \n",
      "7436     8.0     4.0  \n",
      "\n",
      "[2847 rows x 10 columns]\n"
     ]
    }
   ],
   "source": [
    "df_mean = df_num.fillna(value = df_num.mean(), inplace = True)\n",
    "for col in df.select_dtypes('object'):\n",
    "    df_num[col] = df_num[col].round(decimals = 0)\n",
    "print(df_num)"
   ]
  },
  {
   "cell_type": "code",
   "execution_count": 174,
   "metadata": {},
   "outputs": [
    {
     "data": {
      "text/plain": [
       "2.0       2\n",
       "3.0       8\n",
       "24.0     51\n",
       "18.0     55\n",
       "4.0      56\n",
       "17.0     71\n",
       "19.0     75\n",
       "23.0     76\n",
       "20.0     80\n",
       "21.0     82\n",
       "22.0    100\n",
       "5.0     125\n",
       "16.0    135\n",
       "13.0    163\n",
       "14.0    173\n",
       "15.0    178\n",
       "11.0    183\n",
       "8.0     196\n",
       "6.0     199\n",
       "7.0     201\n",
       "12.0    206\n",
       "10.0    206\n",
       "9.0     226\n",
       "Name: PAT_AGE, dtype: int64"
      ]
     },
     "execution_count": 174,
     "metadata": {},
     "output_type": "execute_result"
    }
   ],
   "source": [
    "df_num['PAT_AGE'].value_counts().sort_values(ascending=True)"
   ]
  }
 ],
 "metadata": {
  "kernelspec": {
   "display_name": "Python 3",
   "language": "python",
   "name": "python3"
  },
  "language_info": {
   "codemirror_mode": {
    "name": "ipython",
    "version": 3
   },
   "file_extension": ".py",
   "mimetype": "text/x-python",
   "name": "python",
   "nbconvert_exporter": "python",
   "pygments_lexer": "ipython3",
   "version": "3.8.3"
  }
 },
 "nbformat": 4,
 "nbformat_minor": 4
}
